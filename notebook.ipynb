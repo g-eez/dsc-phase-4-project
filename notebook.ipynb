{
 "cells": [
  {
   "cell_type": "markdown",
   "id": "70c0829c",
   "metadata": {},
   "source": [
    "\n",
    "# 📊 Twitter Sentiment Analysis on Apple and Google Products\n",
    "\n",
    "## 1. Business & Data Understanding\n",
    "\n",
    "In today’s hyper-connected digital landscape, **customer sentiment on social media platforms like Twitter can make or break a brand’s reputation**. Apple and Google, being two of the most influential tech giants, are constantly the subject of public conversation. Understanding how people *feel* about these companies in real-time provides **actionable insights** for product teams, marketing departments, and business strategists.\n",
    "\n",
    "The dataset we’ll be working with comes from **CrowdFlower via data.world**. It contains **9,000+ Tweets** that mention Apple or Google products, each rated by human annotators for sentiment.\n",
    "\n",
    "* **Sentiment Labels**: Positive, Negative, Neither (Neutral)\n",
    "* **Text Content**: Raw tweets with natural language expressions (slang, emojis, hashtags, etc.)\n",
    "* **Business Relevance**: This dataset is highly suited to our problem because:\n",
    "\n",
    "  * Tweets are short, making them perfect for **text classification tasks**.\n",
    "  * The labeled sentiments provide a clear **supervised learning setup**.\n",
    "  * Real-world noisy data (misspellings, sarcasm, mixed emotions) ensures the model will be tested under realistic conditions.\n",
    "\n",
    "📌 **Business Problem Restated**:\n",
    "We aim to **build an NLP model** that automatically classifies the sentiment of a tweet about Apple or Google products. This will allow businesses to quickly gauge public opinion at scale, detect shifts in brand perception, and make **data-driven marketing decisions**.\n",
    "\n",
    "---\n",
    "\n",
    "## 2. Data Preparation\n",
    "\n",
    "Raw tweets are messy. They contain:\n",
    "\n",
    "* Stopwords (e.g., *the, is, at*),\n",
    "* URLs, mentions (@username), hashtags, emojis, and\n",
    "* Irregular casing, misspellings, or repeated characters.\n",
    "\n",
    "To transform this data into something a machine learning model can understand, we’ll follow a **structured preprocessing pipeline**.\n",
    "\n",
    "### 🔧 Data Cleaning Steps\n",
    "\n",
    "1. **Lowercasing** → Standardize text.\n",
    "2. **Remove URLs, mentions, and hashtags** → Strip irrelevant noise.\n",
    "3. **Remove punctuation and special characters** → Focus on meaningful tokens.\n",
    "4. **Tokenization** → Split tweets into individual words.\n",
    "5. **Stopword Removal** → Drop words that don’t contribute much meaning.\n",
    "6. **Stemming/Lemmatization** → Reduce words to their root form (*e.g., running → run*).\n",
    "\n",
    "### 📦 Libraries & Tools for Preparation\n",
    "\n",
    "* **pandas**: Data wrangling.\n",
    "* **re**: Regex for text cleaning.\n",
    "* **NLTK / spaCy**: Tokenization, stopword removal, and lemmatization.\n",
    "* **scikit-learn**: Feature extraction with **CountVectorizer** or **TF-IDF Vectorizer**.\n",
    "\n",
    "📌 **Outcome**: After preprocessing, we’ll have a clean, structured dataset where each tweet is represented as a **vectorized numerical feature set**, ready for model training.\n",
    "\n",
    "---\n",
    "\n",
    "## 3. Exploratory Data Analysis (EDA)\n",
    "\n",
    "Before modeling, it’s critical to explore the dataset.\n",
    "\n",
    "* **Class Distribution**: Check for imbalances between positive, negative, and neutral tweets.\n",
    "* **Common Terms**: Word frequency analysis per sentiment class.\n",
    "* **N-grams**: Identify common bigrams/trigrams (e.g., “love iPhone”, “hate update”).\n",
    "* **Sentiment by Brand**: Compare Apple vs Google mentions.\n",
    "\n",
    "📌 **Goal**: Build intuition about the dataset and uncover biases before modeling.\n",
    "\n",
    "---\n",
    "\n",
    "## 4. Modeling\n",
    "\n",
    "With the data cleaned and vectorized, the next step is to build models that can **learn sentiment patterns**.\n",
    "\n",
    "### 🎯 Modeling Approach\n",
    "\n",
    "We’ll start simple, then iterate:\n",
    "\n",
    "1. **Binary Classification**: Train a model to distinguish **positive vs negative tweets**.\n",
    "2. **Multiclass Classification**: Extend to include **neutral tweets** for full coverage.\n",
    "\n",
    "### 📦 Modeling Libraries\n",
    "\n",
    "* **scikit-learn**: Provides robust machine learning algorithms.\n",
    "* **Models Considered**:\n",
    "\n",
    "  * **Logistic Regression** (baseline, interpretable).\n",
    "  * **Naive Bayes** (strong for text classification).\n",
    "  * **Support Vector Machines (SVM)** (handles high-dimensional sparse data well).\n",
    "  * **Random Forest / XGBoost** (tree-based, captures nonlinearities).\n",
    "* **Optional (Advanced)**:\n",
    "\n",
    "  * **Transformers (BERT, DistilBERT via Hugging Face)** for state-of-the-art NLP performance.\n",
    "\n",
    "### ⚙️ Hyperparameter Tuning\n",
    "\n",
    "We’ll employ **GridSearchCV** or **RandomizedSearchCV** to optimize parameters such as:\n",
    "\n",
    "* Regularization strength (C for Logistic Regression).\n",
    "* Smoothing parameters for Naive Bayes.\n",
    "* Kernel type and C for SVM.\n",
    "* Depth, estimators, and learning rate for tree-based models.\n",
    "\n",
    "📌 **Modeling Goal**: Start simple (fast, interpretable), then layer in complexity (transformers) if needed to maximize performance.\n",
    "\n",
    "---\n",
    "\n",
    "## 5. Evaluation\n",
    "\n",
    "Model evaluation is **where the rubber meets the road**. Since we’re dealing with a **multiclass classification problem**, accuracy alone isn’t enough. We must consider **imbalances and misclassification costs**.\n",
    "\n",
    "### 📊 Metrics to Use\n",
    "\n",
    "* **Accuracy**: Overall correctness.\n",
    "* **Precision, Recall, F1-Score**: Class-specific performance.\n",
    "* **Confusion Matrix**: To understand misclassifications.\n",
    "* **Macro vs Weighted Averages**: Handle class imbalance effectively.\n",
    "\n",
    "### 🔄 Validation Approach\n",
    "\n",
    "* **Train/Test Split** (baseline).\n",
    "* **Cross-Validation (k-fold)** for robustness and generalization.\n",
    "\n",
    "📌 **Business Interpretation of Metrics**:\n",
    "\n",
    "* High **recall** for negative tweets → ensures we don’t miss customer complaints.\n",
    "* High **precision** for positive tweets → ensures identified praise is reliable.\n",
    "\n",
    "---\n",
    "\n",
    "## 6. Conclusion & Insights\n",
    "\n",
    "Once the best-performing model is selected, we’ll generate **business insights**:\n",
    "\n",
    "* **Sentiment Breakdown**: Compare Apple vs Google product sentiment.\n",
    "* **Key Themes**: Identify words and phrases most associated with positive/negative tweets.\n",
    "* **Strategic Recommendations**:\n",
    "\n",
    "  * Apple: What drives satisfaction vs dissatisfaction?\n",
    "  * Google: What issues are customers vocal about?\n",
    "* **Future Monitoring**: Prototype dashboard or model deployment to classify new tweets in real-time.\n",
    "\n",
    "📌 **Deliverable**: A proof-of-concept NLP pipeline + business-facing insights that support **brand perception analysis**.\n",
    "\n",
    "---\n",
    "\n"
   ]
  },
  {
   "cell_type": "code",
   "execution_count": 1,
   "id": "efb97501",
   "metadata": {},
   "outputs": [
    {
     "name": "stderr",
     "output_type": "stream",
     "text": [
      "[nltk_data] Downloading package punkt to\n",
      "[nltk_data]     C:\\Users\\HP\\AppData\\Roaming\\nltk_data...\n",
      "[nltk_data]   Package punkt is already up-to-date!\n",
      "[nltk_data] Downloading package stopwords to\n",
      "[nltk_data]     C:\\Users\\HP\\AppData\\Roaming\\nltk_data...\n",
      "[nltk_data]   Package stopwords is already up-to-date!\n",
      "[nltk_data] Downloading package wordnet to\n",
      "[nltk_data]     C:\\Users\\HP\\AppData\\Roaming\\nltk_data...\n"
     ]
    },
    {
     "data": {
      "text/plain": [
       "True"
      ]
     },
     "execution_count": 1,
     "metadata": {},
     "output_type": "execute_result"
    }
   ],
   "source": [
    "# Step 0: Import All Necessary Libraries\n",
    "\n",
    "# Data manipulation\n",
    "import pandas as pd\n",
    "import numpy as np\n",
    "\n",
    "# Visualization\n",
    "import matplotlib.pyplot as plt\n",
    "import seaborn as sns\n",
    "\n",
    "# NLP preprocessing\n",
    "import re\n",
    "import string\n",
    "from nltk.corpus import stopwords\n",
    "from nltk.stem import PorterStemmer, WordNetLemmatizer\n",
    "from nltk.tokenize import word_tokenize\n",
    "\n",
    "# Machine learning\n",
    "from sklearn.model_selection import train_test_split, GridSearchCV, cross_val_score\n",
    "from sklearn.feature_extraction.text import CountVectorizer, TfidfVectorizer\n",
    "from sklearn.pipeline import Pipeline\n",
    "from sklearn.linear_model import LogisticRegression\n",
    "from sklearn.naive_bayes import MultinomialNB\n",
    "from sklearn.svm import LinearSVC\n",
    "from sklearn.metrics import accuracy_score, classification_report, confusion_matrix\n",
    "\n",
    "# Ensure plots display inline\n",
    "%matplotlib inline\n",
    "\n",
    "# Download NLTK resources if needed (run once)\n",
    "import nltk\n",
    "nltk.download('punkt')\n",
    "nltk.download('stopwords')\n",
    "nltk.download('wordnet')\n"
   ]
  },
  {
   "cell_type": "code",
   "execution_count": 4,
   "id": "ad35caae",
   "metadata": {},
   "outputs": [
    {
     "data": {
      "application/vnd.microsoft.datawrangler.viewer.v0+json": {
       "columns": [
        {
         "name": "index",
         "rawType": "int64",
         "type": "integer"
        },
        {
         "name": "tweet_text",
         "rawType": "object",
         "type": "string"
        },
        {
         "name": "emotion_in_tweet_is_directed_at",
         "rawType": "object",
         "type": "string"
        },
        {
         "name": "is_there_an_emotion_directed_at_a_brand_or_product",
         "rawType": "object",
         "type": "string"
        }
       ],
       "ref": "3dcff71c-3f2c-479a-9c07-7b99965883b2",
       "rows": [
        [
         "0",
         ".@wesley83 I have a 3G iPhone. After 3 hrs tweeting at #RISE_Austin, it was dead!  I need to upgrade. Plugin stations at #SXSW.",
         "iPhone",
         "Negative emotion"
        ],
        [
         "1",
         "@jessedee Know about @fludapp ? Awesome iPad/iPhone app that you'll likely appreciate for its design. Also, they're giving free Ts at #SXSW",
         "iPad or iPhone App",
         "Positive emotion"
        ],
        [
         "2",
         "@swonderlin Can not wait for #iPad 2 also. They should sale them down at #SXSW.",
         "iPad",
         "Positive emotion"
        ],
        [
         "3",
         "@sxsw I hope this year's festival isn't as crashy as this year's iPhone app. #sxsw",
         "iPad or iPhone App",
         "Negative emotion"
        ],
        [
         "4",
         "@sxtxstate great stuff on Fri #SXSW: Marissa Mayer (Google), Tim O'Reilly (tech books/conferences) &amp; Matt Mullenweg (Wordpress)",
         "Google",
         "Positive emotion"
        ]
       ],
       "shape": {
        "columns": 3,
        "rows": 5
       }
      },
      "text/html": [
       "<div>\n",
       "<style scoped>\n",
       "    .dataframe tbody tr th:only-of-type {\n",
       "        vertical-align: middle;\n",
       "    }\n",
       "\n",
       "    .dataframe tbody tr th {\n",
       "        vertical-align: top;\n",
       "    }\n",
       "\n",
       "    .dataframe thead th {\n",
       "        text-align: right;\n",
       "    }\n",
       "</style>\n",
       "<table border=\"1\" class=\"dataframe\">\n",
       "  <thead>\n",
       "    <tr style=\"text-align: right;\">\n",
       "      <th></th>\n",
       "      <th>tweet_text</th>\n",
       "      <th>emotion_in_tweet_is_directed_at</th>\n",
       "      <th>is_there_an_emotion_directed_at_a_brand_or_product</th>\n",
       "    </tr>\n",
       "  </thead>\n",
       "  <tbody>\n",
       "    <tr>\n",
       "      <th>0</th>\n",
       "      <td>.@wesley83 I have a 3G iPhone. After 3 hrs twe...</td>\n",
       "      <td>iPhone</td>\n",
       "      <td>Negative emotion</td>\n",
       "    </tr>\n",
       "    <tr>\n",
       "      <th>1</th>\n",
       "      <td>@jessedee Know about @fludapp ? Awesome iPad/i...</td>\n",
       "      <td>iPad or iPhone App</td>\n",
       "      <td>Positive emotion</td>\n",
       "    </tr>\n",
       "    <tr>\n",
       "      <th>2</th>\n",
       "      <td>@swonderlin Can not wait for #iPad 2 also. The...</td>\n",
       "      <td>iPad</td>\n",
       "      <td>Positive emotion</td>\n",
       "    </tr>\n",
       "    <tr>\n",
       "      <th>3</th>\n",
       "      <td>@sxsw I hope this year's festival isn't as cra...</td>\n",
       "      <td>iPad or iPhone App</td>\n",
       "      <td>Negative emotion</td>\n",
       "    </tr>\n",
       "    <tr>\n",
       "      <th>4</th>\n",
       "      <td>@sxtxstate great stuff on Fri #SXSW: Marissa M...</td>\n",
       "      <td>Google</td>\n",
       "      <td>Positive emotion</td>\n",
       "    </tr>\n",
       "  </tbody>\n",
       "</table>\n",
       "</div>"
      ],
      "text/plain": [
       "                                          tweet_text  \\\n",
       "0  .@wesley83 I have a 3G iPhone. After 3 hrs twe...   \n",
       "1  @jessedee Know about @fludapp ? Awesome iPad/i...   \n",
       "2  @swonderlin Can not wait for #iPad 2 also. The...   \n",
       "3  @sxsw I hope this year's festival isn't as cra...   \n",
       "4  @sxtxstate great stuff on Fri #SXSW: Marissa M...   \n",
       "\n",
       "  emotion_in_tweet_is_directed_at  \\\n",
       "0                          iPhone   \n",
       "1              iPad or iPhone App   \n",
       "2                            iPad   \n",
       "3              iPad or iPhone App   \n",
       "4                          Google   \n",
       "\n",
       "  is_there_an_emotion_directed_at_a_brand_or_product  \n",
       "0                                   Negative emotion  \n",
       "1                                   Positive emotion  \n",
       "2                                   Positive emotion  \n",
       "3                                   Negative emotion  \n",
       "4                                   Positive emotion  "
      ]
     },
     "execution_count": 4,
     "metadata": {},
     "output_type": "execute_result"
    }
   ],
   "source": [
    "# Load dataset\n",
    "file_path = r\"data\\judge-1377884607_tweet_product_company.csv\"\n",
    "\n",
    "# Try ISO-8859-1 (common fallback for these datasets)\n",
    "df = pd.read_csv(file_path, encoding=\"ISO-8859-1\")\n",
    "\n",
    "# Display first few rows\n",
    "df.head()"
   ]
  },
  {
   "cell_type": "markdown",
   "id": "37ca64f9",
   "metadata": {},
   "source": [
    "# 📊 Step 1: Understanding the Dataset\n",
    "\n",
    "Now that we have successfully loaded the dataset, let’s take a moment to understand what we are working with.\n",
    "\n",
    "This dataset was sourced from **CrowdFlower (via Data.World)** and contains tweets mentioning **Apple** and **Google products**. The tweets have been manually labeled by human raters for sentiment.  \n",
    "Our objective is to build a **Natural Language Processing (NLP) model** that can automatically classify whether a tweet is:\n",
    "\n",
    "- **Positive emotion** 🎉 — expressing a favorable opinion.  \n",
    "- **Negative emotion** 😞 — expressing a critical or unfavorable opinion.  \n",
    "- **no emotion towards brand or product** 😐 — neither strongly positive nor negative.  \n",
    "\n",
    "---\n",
    "\n",
    "## Why This Matters\n",
    "Customer opinions on social media are gold for businesses. By analyzing tweets:\n",
    "- Apple and Google can understand **customer satisfaction** in real time.  \n",
    "- Product teams can identify **pain points**.  \n",
    "- Marketing teams can track **brand sentiment trends**.  \n",
    "\n",
    "---\n",
    "\n",
    "## First Look at the Data\n",
    "\n",
    "1. **`tweet_text`** 📝  \n",
    "   - This is the raw tweet itself, written by users.  \n",
    "   - It may contain slang, hashtags, mentions, emojis, and abbreviations.  \n",
    "   - This will be our **primary feature** for text-based sentiment analysis.\n",
    "\n",
    "2. **`emotion_in_tweet_is_directed_at`** 🎯  \n",
    "   - Indicates the **target** of the sentiment (e.g., Apple, Google, or specific products).  \n",
    "   - Useful for understanding **brand-specific sentiment trends**.  \n",
    "   - May also contain *None/Unknown* values if the tweet is not directed at a specific entity.\n",
    "\n",
    "3. **`is_there_an_emotion_directed_at_a_brand_or_product`** 🏷️  \n",
    "   - This is our **label column** (target variable).  \n",
    "   - It tells us whether the tweet sentiment is **Positive, Negative, or Neither**.  \n",
    "   - This is what we’ll train our model to predict.\n",
    "\n",
    "---\n",
    "\n",
    "## Observations\n",
    "- The dataset is **text-heavy**, which means NLP preprocessing will be crucial.  \n",
    "- The **labels are categorical**, making this a **multi-class classification problem**.  \n",
    "- There may be **missing values or noisy entries** (e.g., tweets without a clear brand/product mentioned).\n",
    "\n",
    "---\n",
    "\n"
   ]
  },
  {
   "cell_type": "code",
   "execution_count": 5,
   "id": "f990bf3f",
   "metadata": {},
   "outputs": [
    {
     "name": "stdout",
     "output_type": "stream",
     "text": [
      "Dataset Shape: (9093, 3)\n",
      "\n",
      "Dataset Info:\n",
      "<class 'pandas.core.frame.DataFrame'>\n",
      "RangeIndex: 9093 entries, 0 to 9092\n",
      "Data columns (total 3 columns):\n",
      " #   Column                                              Non-Null Count  Dtype \n",
      "---  ------                                              --------------  ----- \n",
      " 0   tweet_text                                          9092 non-null   object\n",
      " 1   emotion_in_tweet_is_directed_at                     3291 non-null   object\n",
      " 2   is_there_an_emotion_directed_at_a_brand_or_product  9093 non-null   object\n",
      "dtypes: object(3)\n",
      "memory usage: 213.2+ KB\n",
      "None\n"
     ]
    },
    {
     "data": {
      "application/vnd.microsoft.datawrangler.viewer.v0+json": {
       "columns": [
        {
         "name": "index",
         "rawType": "int64",
         "type": "integer"
        },
        {
         "name": "tweet_text",
         "rawType": "object",
         "type": "string"
        },
        {
         "name": "emotion_in_tweet_is_directed_at",
         "rawType": "object",
         "type": "string"
        },
        {
         "name": "is_there_an_emotion_directed_at_a_brand_or_product",
         "rawType": "object",
         "type": "string"
        }
       ],
       "ref": "84f44b3a-6af1-4dcf-b4f9-fffb40b9974e",
       "rows": [
        [
         "0",
         ".@wesley83 I have a 3G iPhone. After 3 hrs tweeting at #RISE_Austin, it was dead!  I need to upgrade. Plugin stations at #SXSW.",
         "iPhone",
         "Negative emotion"
        ],
        [
         "1",
         "@jessedee Know about @fludapp ? Awesome iPad/iPhone app that you'll likely appreciate for its design. Also, they're giving free Ts at #SXSW",
         "iPad or iPhone App",
         "Positive emotion"
        ],
        [
         "2",
         "@swonderlin Can not wait for #iPad 2 also. They should sale them down at #SXSW.",
         "iPad",
         "Positive emotion"
        ],
        [
         "3",
         "@sxsw I hope this year's festival isn't as crashy as this year's iPhone app. #sxsw",
         "iPad or iPhone App",
         "Negative emotion"
        ],
        [
         "4",
         "@sxtxstate great stuff on Fri #SXSW: Marissa Mayer (Google), Tim O'Reilly (tech books/conferences) &amp; Matt Mullenweg (Wordpress)",
         "Google",
         "Positive emotion"
        ]
       ],
       "shape": {
        "columns": 3,
        "rows": 5
       }
      },
      "text/html": [
       "<div>\n",
       "<style scoped>\n",
       "    .dataframe tbody tr th:only-of-type {\n",
       "        vertical-align: middle;\n",
       "    }\n",
       "\n",
       "    .dataframe tbody tr th {\n",
       "        vertical-align: top;\n",
       "    }\n",
       "\n",
       "    .dataframe thead th {\n",
       "        text-align: right;\n",
       "    }\n",
       "</style>\n",
       "<table border=\"1\" class=\"dataframe\">\n",
       "  <thead>\n",
       "    <tr style=\"text-align: right;\">\n",
       "      <th></th>\n",
       "      <th>tweet_text</th>\n",
       "      <th>emotion_in_tweet_is_directed_at</th>\n",
       "      <th>is_there_an_emotion_directed_at_a_brand_or_product</th>\n",
       "    </tr>\n",
       "  </thead>\n",
       "  <tbody>\n",
       "    <tr>\n",
       "      <th>0</th>\n",
       "      <td>.@wesley83 I have a 3G iPhone. After 3 hrs twe...</td>\n",
       "      <td>iPhone</td>\n",
       "      <td>Negative emotion</td>\n",
       "    </tr>\n",
       "    <tr>\n",
       "      <th>1</th>\n",
       "      <td>@jessedee Know about @fludapp ? Awesome iPad/i...</td>\n",
       "      <td>iPad or iPhone App</td>\n",
       "      <td>Positive emotion</td>\n",
       "    </tr>\n",
       "    <tr>\n",
       "      <th>2</th>\n",
       "      <td>@swonderlin Can not wait for #iPad 2 also. The...</td>\n",
       "      <td>iPad</td>\n",
       "      <td>Positive emotion</td>\n",
       "    </tr>\n",
       "    <tr>\n",
       "      <th>3</th>\n",
       "      <td>@sxsw I hope this year's festival isn't as cra...</td>\n",
       "      <td>iPad or iPhone App</td>\n",
       "      <td>Negative emotion</td>\n",
       "    </tr>\n",
       "    <tr>\n",
       "      <th>4</th>\n",
       "      <td>@sxtxstate great stuff on Fri #SXSW: Marissa M...</td>\n",
       "      <td>Google</td>\n",
       "      <td>Positive emotion</td>\n",
       "    </tr>\n",
       "  </tbody>\n",
       "</table>\n",
       "</div>"
      ],
      "text/plain": [
       "                                          tweet_text  \\\n",
       "0  .@wesley83 I have a 3G iPhone. After 3 hrs twe...   \n",
       "1  @jessedee Know about @fludapp ? Awesome iPad/i...   \n",
       "2  @swonderlin Can not wait for #iPad 2 also. The...   \n",
       "3  @sxsw I hope this year's festival isn't as cra...   \n",
       "4  @sxtxstate great stuff on Fri #SXSW: Marissa M...   \n",
       "\n",
       "  emotion_in_tweet_is_directed_at  \\\n",
       "0                          iPhone   \n",
       "1              iPad or iPhone App   \n",
       "2                            iPad   \n",
       "3              iPad or iPhone App   \n",
       "4                          Google   \n",
       "\n",
       "  is_there_an_emotion_directed_at_a_brand_or_product  \n",
       "0                                   Negative emotion  \n",
       "1                                   Positive emotion  \n",
       "2                                   Positive emotion  \n",
       "3                                   Negative emotion  \n",
       "4                                   Positive emotion  "
      ]
     },
     "execution_count": 5,
     "metadata": {},
     "output_type": "execute_result"
    }
   ],
   "source": [
    "# Step 2: Inspect the dataset structure\n",
    "\n",
    "# Shape of dataset (rows, columns)\n",
    "print(\"Dataset Shape:\", df.shape)\n",
    "\n",
    "# Column names and data types\n",
    "print(\"\\nDataset Info:\")\n",
    "print(df.info())\n",
    "\n",
    "# Quick look at first few rows\n",
    "df.head()\n"
   ]
  },
  {
   "cell_type": "markdown",
   "id": "484fc604",
   "metadata": {},
   "source": [
    "# 🔍 Step 2: Dataset Exploration\n",
    "\n",
    "The dataset contains **9,093 tweets** with **3 columns**:\n",
    "\n",
    "1. **`tweet_text`** — the raw text of the tweet (primary feature we’ll use for NLP).  \n",
    "   - Almost complete, with only 1 missing value.  \n",
    "   - Data type: `object` (string).  \n",
    "\n",
    "2. **`emotion_in_tweet_is_directed_at`** — indicates which brand/product the emotion is directed at (e.g., *Apple*, *Google*, *iPhone*).  \n",
    "   - Only **3,291 non-null values**, meaning over **65% missing values**.  \n",
    "   - This suggests it’s **not consistently labeled**.  \n",
    "\n",
    "3. **`is_there_an_emotion_directed_at_a_brand_or_product`** — the target variable (sentiment label).  \n",
    "   - Fully complete (no missing values).  \n",
    "   - Values likely include `\"Positive Emotion\"`, `\"Negative Emotion\"`, `\"No Emotion\"`, etc.  \n",
    "   - Data type: `object` (categorical).  \n",
    "\n",
    "---\n",
    "\n",
    "## Key Takeaways\n",
    "- Our **main predictor** will be `tweet_text`.  \n",
    "- The **label** is `is_there_an_emotion_directed_at_a_brand_or_product`.  \n",
    "- The `emotion_in_tweet_is_directed_at` column has too many missing values, so we must **decide whether to drop it or treat it selectively**.  \n",
    "\n",
    "---\n",
    "\n",
    "## Next Step\n",
    "Before cleaning, let’s explore the **unique values** in our target column and get a sense of **class distribution**. This helps us check whether the dataset is **balanced or imbalanced**, which is critical for modeling.\n"
   ]
  },
  {
   "cell_type": "code",
   "execution_count": 6,
   "id": "979a6272",
   "metadata": {},
   "outputs": [
    {
     "name": "stdout",
     "output_type": "stream",
     "text": [
      "Unique Sentiment Labels: ['Negative emotion' 'Positive emotion'\n",
      " 'No emotion toward brand or product' \"I can't tell\"]\n",
      "\n",
      "Sentiment Distribution:\n"
     ]
    },
    {
     "data": {
      "application/vnd.microsoft.datawrangler.viewer.v0+json": {
       "columns": [
        {
         "name": "is_there_an_emotion_directed_at_a_brand_or_product",
         "rawType": "object",
         "type": "string"
        },
        {
         "name": "count",
         "rawType": "int64",
         "type": "integer"
        }
       ],
       "ref": "e7de6261-877b-4ae9-aaae-444f465097eb",
       "rows": [
        [
         "No emotion toward brand or product",
         "5389"
        ],
        [
         "Positive emotion",
         "2978"
        ],
        [
         "Negative emotion",
         "570"
        ],
        [
         "I can't tell",
         "156"
        ]
       ],
       "shape": {
        "columns": 1,
        "rows": 4
       }
      },
      "text/plain": [
       "is_there_an_emotion_directed_at_a_brand_or_product\n",
       "No emotion toward brand or product    5389\n",
       "Positive emotion                      2978\n",
       "Negative emotion                       570\n",
       "I can't tell                           156\n",
       "Name: count, dtype: int64"
      ]
     },
     "execution_count": 6,
     "metadata": {},
     "output_type": "execute_result"
    }
   ],
   "source": [
    "# Step 3: Explore target variable (sentiment labels)\n",
    "\n",
    "# Unique values in target column\n",
    "print(\"Unique Sentiment Labels:\", df['is_there_an_emotion_directed_at_a_brand_or_product'].unique())\n",
    "\n",
    "# Value counts for distribution\n",
    "print(\"\\nSentiment Distribution:\")\n",
    "df['is_there_an_emotion_directed_at_a_brand_or_product'].value_counts()\n"
   ]
  },
  {
   "cell_type": "markdown",
   "id": "3de864b4",
   "metadata": {},
   "source": [
    "# 📊 Step 3: Understanding Sentiment Distribution\n",
    "\n",
    "We explored the target column — `is_there_an_emotion_directed_at_a_brand_or_product` — and found the following class distribution:\n",
    "\n",
    "- **No emotion toward brand/product:** 5,389 tweets (~59%)  \n",
    "- **Positive emotion:** 2,978 tweets (~33%)  \n",
    "- **Negative emotion:** 570 tweets (~6%)  \n",
    "- **I can’t tell:** 156 tweets (~2%)  \n",
    "\n",
    "---\n",
    "\n",
    "## Insights\n",
    "1. **Imbalance in classes**  \n",
    "   - The dataset is **dominated by “No emotion” tweets**, which account for more than half of all entries.  \n",
    "   - Negative emotions are **severely underrepresented** (only ~6%).  \n",
    "\n",
    "2. **Implications for modeling**  \n",
    "   - Standard classifiers may **bias toward the majority class** (predicting “No emotion” most of the time).  \n",
    "   - To ensure fair learning, we’ll need strategies like:  \n",
    "     - **Resampling techniques** (oversampling minority classes or undersampling majority).  \n",
    "     - **Class weights** in our model training.  \n",
    "\n",
    "3. **Target cleanup consideration**  \n",
    "   - The `\"I can't tell\"` category is **ambiguous**.  \n",
    "   - For sentiment analysis, we might consider **dropping these rows** or treating them as a separate \"uncertain\" class, depending on project goals.  \n",
    "\n",
    "---\n",
    "\n",
    "## Next Step\n",
    "Before preprocessing text, let’s **visualize the distribution** of sentiment classes. A simple bar plot will help us clearly see the imbalance.\n"
   ]
  },
  {
   "cell_type": "code",
   "execution_count": 7,
   "id": "d43a8a1e",
   "metadata": {},
   "outputs": [
    {
     "data": {
      "image/png": "[encoded data removed]",
      "text/plain": [
       "<Figure size 800x500 with 1 Axes>"
      ]
     },
     "metadata": {},
     "output_type": "display_data"
    }
   ],
   "source": [
    "# Count values\n",
    "sentiment_counts = df['is_there_an_emotion_directed_at_a_brand_or_product'].value_counts()\n",
    "\n",
    "# Plot\n",
    "plt.figure(figsize=(8,5))\n",
    "sentiment_counts.plot(kind='bar', color=['skyblue','lightgreen','salmon','gray'], edgecolor='black')\n",
    "plt.title(\"Sentiment Distribution in Tweets\", fontsize=14)\n",
    "plt.xlabel(\"Sentiment Class\")\n",
    "plt.ylabel(\"Number of Tweets\")\n",
    "plt.xticks(rotation=45)\n",
    "plt.show()"
   ]
  },
  {
   "cell_type": "markdown",
   "id": "389cbe68",
   "metadata": {},
   "source": [
    "# 📊 Step 4: Visualizing Sentiment Distribution\n",
    "\n",
    "The bar chart illustrates the **class imbalance** we discovered numerically:  \n",
    "\n",
    "- **No Emotion** dominates with **5,389 tweets**, forming the majority class.  \n",
    "- **Positive Sentiment** comes next at **2,978 tweets**, showing strong representation.  \n",
    "- **Negative Sentiment** is quite limited, with only **570 tweets** — highlighting the biggest imbalance.  \n",
    "- **I Can’t Tell** is minimal at **156 tweets**, adding ambiguity to our dataset.  \n",
    "\n",
    "---\n",
    "\n",
    "## Why this matters\n",
    "- **Machine learning models are sensitive to imbalance.**  \n",
    "  If left unchecked, the model could simply predict “No Emotion” most of the time and still achieve deceptively high accuracy.  \n",
    "- **Evaluation metrics must be chosen carefully.**  \n",
    "  Accuracy won’t be enough — we’ll need **F1-score, precision, and recall**, especially for the minority “Negative” class.  \n",
    "- **Data preprocessing decisions:**  \n",
    "  - We may **drop the 'I can’t tell' category** since it doesn’t add clear sentiment information.  \n",
    "  - We’ll later apply **balancing techniques** such as class weighting or resampling to handle the skewed distribution.\n",
    "\n",
    "---\n",
    "\n",
    "✅ With this understanding, we’re now ready to move forward with **data preprocessing**, where we’ll:  \n",
    "1. Clean the tweet text (remove URLs, mentions, special characters).  \n",
    "2. Normalize the text (lowercasing, removing stopwords).  \n",
    "3. Tokenize and prepare the data for vectorization.  \n"
   ]
  },
  {
   "cell_type": "code",
   "execution_count": 8,
   "id": "fb583b9a",
   "metadata": {},
   "outputs": [
    {
     "data": {
      "application/vnd.microsoft.datawrangler.viewer.v0+json": {
       "columns": [
        {
         "name": "index",
         "rawType": "int64",
         "type": "integer"
        },
        {
         "name": "tweet_text",
         "rawType": "object",
         "type": "unknown"
        },
        {
         "name": "clean_text",
         "rawType": "object",
         "type": "string"
        }
       ],
       "ref": "d79b9cd8-ae7d-40c9-bb2f-172973ae2264",
       "rows": [
        [
         "0",
         ".@wesley83 I have a 3G iPhone. After 3 hrs tweeting at #RISE_Austin, it was dead!  I need to upgrade. Plugin stations at #SXSW.",
         "g iphone hrs tweeting dead need upgrade plugin stations"
        ],
        [
         "1",
         "@jessedee Know about @fludapp ? Awesome iPad/iPhone app that you'll likely appreciate for its design. Also, they're giving free Ts at #SXSW",
         "know awesome ipadiphone app youll likely appreciate design also theyre giving free ts"
        ],
        [
         "2",
         "@swonderlin Can not wait for #iPad 2 also. They should sale them down at #SXSW.",
         "wait also sale"
        ],
        [
         "3",
         "@sxsw I hope this year's festival isn't as crashy as this year's iPhone app. #sxsw",
         "hope years festival isnt crashy years iphone app"
        ],
        [
         "4",
         "@sxtxstate great stuff on Fri #SXSW: Marissa Mayer (Google), Tim O'Reilly (tech books/conferences) &amp; Matt Mullenweg (Wordpress)",
         "great stuff fri marissa mayer google tim oreilly tech booksconferences amp matt mullenweg wordpress"
        ],
        [
         "5",
         "@teachntech00 New iPad Apps For #SpeechTherapy And Communication Are Showcased At The #SXSW Conference http://ht.ly/49n4M #iear #edchat #asd",
         "new ipad apps communication showcased conference"
        ],
        [
         "6",
         null,
         "nan"
        ],
        [
         "7",
         "#SXSW is just starting, #CTIA is around the corner and #googleio is only a hop skip and a jump from there, good time to be an #android fan",
         "starting around corner hop skip jump good time fan"
        ],
        [
         "8",
         "Beautifully smart and simple idea RT @madebymany @thenextweb wrote about our #hollergram iPad app for #sxsw! http://bit.ly/ieaVOB",
         "beautifully smart simple idea rt wrote ipad app"
        ],
        [
         "9",
         "Counting down the days to #sxsw plus strong Canadian dollar means stock up on Apple gear",
         "counting days plus strong canadian dollar means stock apple gear"
        ]
       ],
       "shape": {
        "columns": 2,
        "rows": 10
       }
      },
      "text/html": [
       "<div>\n",
       "<style scoped>\n",
       "    .dataframe tbody tr th:only-of-type {\n",
       "        vertical-align: middle;\n",
       "    }\n",
       "\n",
       "    .dataframe tbody tr th {\n",
       "        vertical-align: top;\n",
       "    }\n",
       "\n",
       "    .dataframe thead th {\n",
       "        text-align: right;\n",
       "    }\n",
       "</style>\n",
       "<table border=\"1\" class=\"dataframe\">\n",
       "  <thead>\n",
       "    <tr style=\"text-align: right;\">\n",
       "      <th></th>\n",
       "      <th>tweet_text</th>\n",
       "      <th>clean_text</th>\n",
       "    </tr>\n",
       "  </thead>\n",
       "  <tbody>\n",
       "    <tr>\n",
       "      <th>0</th>\n",
       "      <td>.@wesley83 I have a 3G iPhone. After 3 hrs twe...</td>\n",
       "      <td>g iphone hrs tweeting dead need upgrade plugin...</td>\n",
       "    </tr>\n",
       "    <tr>\n",
       "      <th>1</th>\n",
       "      <td>@jessedee Know about @fludapp ? Awesome iPad/i...</td>\n",
       "      <td>know awesome ipadiphone app youll likely appre...</td>\n",
       "    </tr>\n",
       "    <tr>\n",
       "      <th>2</th>\n",
       "      <td>@swonderlin Can not wait for #iPad 2 also. The...</td>\n",
       "      <td>wait also sale</td>\n",
       "    </tr>\n",
       "    <tr>\n",
       "      <th>3</th>\n",
       "      <td>@sxsw I hope this year's festival isn't as cra...</td>\n",
       "      <td>hope years festival isnt crashy years iphone app</td>\n",
       "    </tr>\n",
       "    <tr>\n",
       "      <th>4</th>\n",
       "      <td>@sxtxstate great stuff on Fri #SXSW: Marissa M...</td>\n",
       "      <td>great stuff fri marissa mayer google tim oreil...</td>\n",
       "    </tr>\n",
       "    <tr>\n",
       "      <th>5</th>\n",
       "      <td>@teachntech00 New iPad Apps For #SpeechTherapy...</td>\n",
       "      <td>new ipad apps communication showcased conference</td>\n",
       "    </tr>\n",
       "    <tr>\n",
       "      <th>6</th>\n",
       "      <td>NaN</td>\n",
       "      <td>nan</td>\n",
       "    </tr>\n",
       "    <tr>\n",
       "      <th>7</th>\n",
       "      <td>#SXSW is just starting, #CTIA is around the co...</td>\n",
       "      <td>starting around corner hop skip jump good time...</td>\n",
       "    </tr>\n",
       "    <tr>\n",
       "      <th>8</th>\n",
       "      <td>Beautifully smart and simple idea RT @madebyma...</td>\n",
       "      <td>beautifully smart simple idea rt wrote ipad app</td>\n",
       "    </tr>\n",
       "    <tr>\n",
       "      <th>9</th>\n",
       "      <td>Counting down the days to #sxsw plus strong Ca...</td>\n",
       "      <td>counting days plus strong canadian dollar mean...</td>\n",
       "    </tr>\n",
       "  </tbody>\n",
       "</table>\n",
       "</div>"
      ],
      "text/plain": [
       "                                          tweet_text  \\\n",
       "0  .@wesley83 I have a 3G iPhone. After 3 hrs twe...   \n",
       "1  @jessedee Know about @fludapp ? Awesome iPad/i...   \n",
       "2  @swonderlin Can not wait for #iPad 2 also. The...   \n",
       "3  @sxsw I hope this year's festival isn't as cra...   \n",
       "4  @sxtxstate great stuff on Fri #SXSW: Marissa M...   \n",
       "5  @teachntech00 New iPad Apps For #SpeechTherapy...   \n",
       "6                                                NaN   \n",
       "7  #SXSW is just starting, #CTIA is around the co...   \n",
       "8  Beautifully smart and simple idea RT @madebyma...   \n",
       "9  Counting down the days to #sxsw plus strong Ca...   \n",
       "\n",
       "                                          clean_text  \n",
       "0  g iphone hrs tweeting dead need upgrade plugin...  \n",
       "1  know awesome ipadiphone app youll likely appre...  \n",
       "2                                     wait also sale  \n",
       "3   hope years festival isnt crashy years iphone app  \n",
       "4  great stuff fri marissa mayer google tim oreil...  \n",
       "5   new ipad apps communication showcased conference  \n",
       "6                                                nan  \n",
       "7  starting around corner hop skip jump good time...  \n",
       "8    beautifully smart simple idea rt wrote ipad app  \n",
       "9  counting days plus strong canadian dollar mean...  "
      ]
     },
     "execution_count": 8,
     "metadata": {},
     "output_type": "execute_result"
    }
   ],
   "source": [
    "\n",
    "# Define English stopwords\n",
    "stop_words = set(stopwords.words(\"english\"))\n",
    "\n",
    "def clean_tweet(text):\n",
    "    \"\"\"\n",
    "    Function to clean tweet text:\n",
    "    1. Lowercasing\n",
    "    2. Remove URLs, mentions, hashtags\n",
    "    3. Remove punctuation, numbers\n",
    "    4. Remove extra spaces\n",
    "    5. Remove stopwords\n",
    "    \"\"\"\n",
    "    # Lowercase\n",
    "    text = text.lower()\n",
    "    \n",
    "    # Remove URLs\n",
    "    text = re.sub(r\"http\\S+|www\\S+|https\\S+\", \"\", text)\n",
    "    \n",
    "    # Remove mentions and hashtags\n",
    "    text = re.sub(r\"@\\w+|#\\w+\", \"\", text)\n",
    "    \n",
    "    # Remove punctuation and numbers\n",
    "    text = re.sub(r\"[^a-z\\s]\", \"\", text)\n",
    "    \n",
    "    # Tokenize\n",
    "    tokens = text.split()\n",
    "    \n",
    "    # Remove stopwords\n",
    "    tokens = [word for word in tokens if word not in stop_words]\n",
    "    \n",
    "    # Rejoin\n",
    "    return \" \".join(tokens)\n",
    "\n",
    "# Apply cleaning\n",
    "df[\"clean_text\"] = df[\"tweet_text\"].astype(str).apply(clean_tweet)\n",
    "\n",
    "# Display a few examples before and after cleaning\n",
    "df[[\"tweet_text\", \"clean_text\"]].head(10)\n"
   ]
  },
  {
   "cell_type": "markdown",
   "id": "d3cd8a75",
   "metadata": {},
   "source": [
    "preprocessing pipeline is doing its job:\n",
    "\n",
    "* **Noise removed** → mentions (`@wesley03`), hashtags (`#SXSW`), and URLs are stripped.\n",
    "* **Lowercasing enforced** → \"SXSW\" → `sxsw`.\n",
    "* **Stopwords removed** → common words like “I”, “the”, “for” are dropped.\n",
    "* **Symbols/Numbers cleaned** → punctuation (`!`, `?`, `.`), ampersands (`&`), and numbers are stripped.\n",
    "* **Tokens simplified** → text reduced to meaningful content words (e.g., *“need upgrade plugin stations”*).\n",
    "\n",
    "This gives us a much cleaner signal for downstream modeling, ensuring the classifier learns patterns from **semantically relevant words** rather than noise.\n",
    "\n",
    "---\n",
    "\n",
    "✅ Now let’s move forward to **Step 6: Tokenization & Vectorization**.\n",
    "We need to convert text into numerical format. We'll start with a **Bag-of-Words (CountVectorizer)** and a **TF-IDF Vectorizer** to compare later.\n",
    "\n"
   ]
  },
  {
   "cell_type": "code",
   "execution_count": 9,
   "id": "db9b62e7",
   "metadata": {},
   "outputs": [
    {
     "name": "stdout",
     "output_type": "stream",
     "text": [
      "Count Vectorizer Shape: (9093, 5000)\n",
      "TF-IDF Vectorizer Shape: (9093, 5000)\n"
     ]
    }
   ],
   "source": [
    "from sklearn.feature_extraction.text import CountVectorizer, TfidfVectorizer\n",
    "\n",
    "# Initialize vectorizers\n",
    "count_vectorizer = CountVectorizer(max_features=5000, ngram_range=(1,2))\n",
    "tfidf_vectorizer = TfidfVectorizer(max_features=5000, ngram_range=(1,2))\n",
    "\n",
    "# Fit and transform\n",
    "X_count = count_vectorizer.fit_transform(df[\"clean_text\"].astype(str))\n",
    "X_tfidf = tfidf_vectorizer.fit_transform(df[\"clean_text\"].astype(str))\n",
    "\n",
    "print(\"Count Vectorizer Shape:\", X_count.shape)\n",
    "print(\"TF-IDF Vectorizer Shape:\", X_tfidf.shape)\n"
   ]
  },
  {
   "cell_type": "markdown",
   "id": "08cdd61f",
   "metadata": {},
   "source": [
    "Perfect — now we’ve officially transformed our raw tweets into **numerical features** that can be used by machine learning models. Let’s break this down.\n",
    "\n",
    "---\n",
    "\n",
    "## 🧾 Explanation: Feature Extraction\n",
    "\n",
    "When working with text data, models can’t directly understand words — they need numbers. That’s where **Count Vectorization** and **TF-IDF Vectorization** come in:\n",
    "\n",
    "1. **Count Vectorizer**\n",
    "\n",
    "   * This method simply counts how many times each word appears in a tweet.\n",
    "   * The result is a **document-term matrix (DTM)** where rows are tweets and columns are words (up to 5,000 features in our case).\n",
    "   * Example: If the word *“iphone”* appears twice in a tweet, that cell in the matrix will contain `2`.\n",
    "\n",
    "2. **TF-IDF Vectorizer (Term Frequency – Inverse Document Frequency)**\n",
    "\n",
    "   * Instead of just counting words, TF-IDF also considers how **unique or informative** a word is across all tweets.\n",
    "   * Common words like *“the”*, *“at”*, or *“good”* are down-weighted, while words strongly associated with particular sentiments (like *“love”* or *“hate”*) get more weight.\n",
    "   * This typically improves model performance because it emphasizes discriminative terms.\n",
    "\n",
    "3. **Shapes you reported**\n",
    "\n",
    "   * Both vectorizers created a matrix of shape **(9093, 5000)**.\n",
    "   * ✅ 9093 → number of tweets (rows).\n",
    "   * ✅ 5000 → number of most frequent words kept as features (columns).\n",
    "   * This means every tweet is now represented as a **5,000-dimensional vector**.\n",
    "\n",
    "In short, we’ve transformed language into math — the essential bridge to make text machine-readable. 🚀\n",
    "\n",
    "---\n",
    "\n",
    "✅ Next step: **Split the data into training and testing sets**, so we can train models without overfitting.\n",
    "\n"
   ]
  },
  {
   "cell_type": "code",
   "execution_count": 11,
   "id": "ef918d76",
   "metadata": {},
   "outputs": [
    {
     "name": "stdout",
     "output_type": "stream",
     "text": [
      "Training set shape: (7274, 5000)\n",
      "Testing set shape: (1819, 5000)\n",
      "Training labels distribution:\n",
      " is_there_an_emotion_directed_at_a_brand_or_product\n",
      "No emotion toward brand or product    4311\n",
      "Positive emotion                      2382\n",
      "Negative emotion                       456\n",
      "I can't tell                           125\n",
      "Name: count, dtype: int64\n",
      "Testing labels distribution:\n",
      " is_there_an_emotion_directed_at_a_brand_or_product\n",
      "No emotion toward brand or product    1078\n",
      "Positive emotion                       596\n",
      "Negative emotion                       114\n",
      "I can't tell                            31\n",
      "Name: count, dtype: int64\n"
     ]
    }
   ],
   "source": [
    "# Train-Test Split\n",
    "\n",
    "# We'll use the TF-IDF features (X_tfidf) for modeling\n",
    "X = X_tfidf  \n",
    "y = df[\"is_there_an_emotion_directed_at_a_brand_or_product\"]\n",
    "\n",
    "# Split dataset: 80% training, 20% testing\n",
    "X_train, X_test, y_train, y_test = train_test_split(\n",
    "    X, y, test_size=0.2, random_state=42, stratify=y\n",
    ")\n",
    "\n",
    "print(\"Training set shape:\", X_train.shape)\n",
    "print(\"Testing set shape:\", X_test.shape)\n",
    "print(\"Training labels distribution:\\n\", y_train.value_counts())\n",
    "print(\"Testing labels distribution:\\n\", y_test.value_counts())\n"
   ]
  },
  {
   "cell_type": "markdown",
   "id": "d7410f98",
   "metadata": {},
   "source": [
    "\n",
    "---\n",
    "\n",
    "### Train-Test Split Explanation\n",
    "\n",
    "We divided the dataset into an **80% training set (7,274 samples)** and a **20% testing set (1,819 samples)** using stratified sampling. Stratification ensures that the **class distribution remains consistent** across training and test sets, which is crucial in imbalanced classification problems like this one.\n",
    "\n",
    "* **Training Set Distribution**\n",
    "\n",
    "  * No emotion: 4,311\n",
    "  * Positive emotion: 2,382\n",
    "  * Negative emotion: 456\n",
    "  * I can't tell: 125\n",
    "\n",
    "* **Testing Set Distribution**\n",
    "\n",
    "  * No emotion: 1,078\n",
    "  * Positive emotion: 596\n",
    "  * Negative emotion: 114\n",
    "  * I can't tell: 31\n",
    "\n",
    "This split maintains proportional representation of each class, which helps the model generalize better and avoids biasing toward the majority class (\"No emotion toward brand or product\").\n",
    "\n",
    "---\n",
    "\n",
    "Next step: we should start with a **baseline model** (e.g., Logistic Regression) to establish performance benchmarks before exploring more advanced models.\n"
   ]
  },
  {
   "cell_type": "code",
   "execution_count": 13,
   "id": "3851a4dd",
   "metadata": {},
   "outputs": [
    {
     "ename": "AttributeError",
     "evalue": "'csr_matrix' object has no attribute 'lower'",
     "output_type": "error",
     "traceback": [
      "\u001b[1;31m---------------------------------------------------------------------------\u001b[0m",
      "\u001b[1;31mAttributeError\u001b[0m                            Traceback (most recent call last)",
      "Cell \u001b[1;32mIn[13], line 2\u001b[0m\n\u001b[0;32m      1\u001b[0m \u001b[38;5;66;03m# Transform train and test sets using the TF-IDF vectorizer\u001b[39;00m\n\u001b[1;32m----> 2\u001b[0m X_train_tfidf \u001b[38;5;241m=\u001b[39m tfidf_vectorizer\u001b[38;5;241m.\u001b[39mtransform(X_train)\n\u001b[0;32m      3\u001b[0m X_test_tfidf \u001b[38;5;241m=\u001b[39m tfidf_vectorizer\u001b[38;5;241m.\u001b[39mtransform(X_test)\n\u001b[0;32m      5\u001b[0m \u001b[38;5;66;03m# Check shapes\u001b[39;00m\n",
      "File \u001b[1;32mc:\\Users\\HP\\anaconda3\\Lib\\site-packages\\sklearn\\feature_extraction\\text.py:2128\u001b[0m, in \u001b[0;36mTfidfVectorizer.transform\u001b[1;34m(self, raw_documents)\u001b[0m\n\u001b[0;32m   2111\u001b[0m \u001b[38;5;250m\u001b[39m\u001b[38;5;124;03m\"\"\"Transform documents to document-term matrix.\u001b[39;00m\n\u001b[0;32m   2112\u001b[0m \n\u001b[0;32m   2113\u001b[0m \u001b[38;5;124;03mUses the vocabulary and document frequencies (df) learned by fit (or\u001b[39;00m\n\u001b[1;32m   (...)\u001b[0m\n\u001b[0;32m   2124\u001b[0m \u001b[38;5;124;03m    Tf-idf-weighted document-term matrix.\u001b[39;00m\n\u001b[0;32m   2125\u001b[0m \u001b[38;5;124;03m\"\"\"\u001b[39;00m\n\u001b[0;32m   2126\u001b[0m check_is_fitted(\u001b[38;5;28mself\u001b[39m, msg\u001b[38;5;241m=\u001b[39m\u001b[38;5;124m\"\u001b[39m\u001b[38;5;124mThe TF-IDF vectorizer is not fitted\u001b[39m\u001b[38;5;124m\"\u001b[39m)\n\u001b[1;32m-> 2128\u001b[0m X \u001b[38;5;241m=\u001b[39m \u001b[38;5;28msuper\u001b[39m()\u001b[38;5;241m.\u001b[39mtransform(raw_documents)\n\u001b[0;32m   2129\u001b[0m \u001b[38;5;28;01mreturn\u001b[39;00m \u001b[38;5;28mself\u001b[39m\u001b[38;5;241m.\u001b[39m_tfidf\u001b[38;5;241m.\u001b[39mtransform(X, copy\u001b[38;5;241m=\u001b[39m\u001b[38;5;28;01mFalse\u001b[39;00m)\n",
      "File \u001b[1;32mc:\\Users\\HP\\anaconda3\\Lib\\site-packages\\sklearn\\feature_extraction\\text.py:1421\u001b[0m, in \u001b[0;36mCountVectorizer.transform\u001b[1;34m(self, raw_documents)\u001b[0m\n\u001b[0;32m   1418\u001b[0m \u001b[38;5;28mself\u001b[39m\u001b[38;5;241m.\u001b[39m_check_vocabulary()\n\u001b[0;32m   1420\u001b[0m \u001b[38;5;66;03m# use the same matrix-building strategy as fit_transform\u001b[39;00m\n\u001b[1;32m-> 1421\u001b[0m _, X \u001b[38;5;241m=\u001b[39m \u001b[38;5;28mself\u001b[39m\u001b[38;5;241m.\u001b[39m_count_vocab(raw_documents, fixed_vocab\u001b[38;5;241m=\u001b[39m\u001b[38;5;28;01mTrue\u001b[39;00m)\n\u001b[0;32m   1422\u001b[0m \u001b[38;5;28;01mif\u001b[39;00m \u001b[38;5;28mself\u001b[39m\u001b[38;5;241m.\u001b[39mbinary:\n\u001b[0;32m   1423\u001b[0m     X\u001b[38;5;241m.\u001b[39mdata\u001b[38;5;241m.\u001b[39mfill(\u001b[38;5;241m1\u001b[39m)\n",
      "File \u001b[1;32mc:\\Users\\HP\\anaconda3\\Lib\\site-packages\\sklearn\\feature_extraction\\text.py:1263\u001b[0m, in \u001b[0;36mCountVectorizer._count_vocab\u001b[1;34m(self, raw_documents, fixed_vocab)\u001b[0m\n\u001b[0;32m   1261\u001b[0m \u001b[38;5;28;01mfor\u001b[39;00m doc \u001b[38;5;129;01min\u001b[39;00m raw_documents:\n\u001b[0;32m   1262\u001b[0m     feature_counter \u001b[38;5;241m=\u001b[39m {}\n\u001b[1;32m-> 1263\u001b[0m     \u001b[38;5;28;01mfor\u001b[39;00m feature \u001b[38;5;129;01min\u001b[39;00m analyze(doc):\n\u001b[0;32m   1264\u001b[0m         \u001b[38;5;28;01mtry\u001b[39;00m:\n\u001b[0;32m   1265\u001b[0m             feature_idx \u001b[38;5;241m=\u001b[39m vocabulary[feature]\n",
      "File \u001b[1;32mc:\\Users\\HP\\anaconda3\\Lib\\site-packages\\sklearn\\feature_extraction\\text.py:104\u001b[0m, in \u001b[0;36m_analyze\u001b[1;34m(doc, analyzer, tokenizer, ngrams, preprocessor, decoder, stop_words)\u001b[0m\n\u001b[0;32m    102\u001b[0m \u001b[38;5;28;01melse\u001b[39;00m:\n\u001b[0;32m    103\u001b[0m     \u001b[38;5;28;01mif\u001b[39;00m preprocessor \u001b[38;5;129;01mis\u001b[39;00m \u001b[38;5;129;01mnot\u001b[39;00m \u001b[38;5;28;01mNone\u001b[39;00m:\n\u001b[1;32m--> 104\u001b[0m         doc \u001b[38;5;241m=\u001b[39m preprocessor(doc)\n\u001b[0;32m    105\u001b[0m     \u001b[38;5;28;01mif\u001b[39;00m tokenizer \u001b[38;5;129;01mis\u001b[39;00m \u001b[38;5;129;01mnot\u001b[39;00m \u001b[38;5;28;01mNone\u001b[39;00m:\n\u001b[0;32m    106\u001b[0m         doc \u001b[38;5;241m=\u001b[39m tokenizer(doc)\n",
      "File \u001b[1;32mc:\\Users\\HP\\anaconda3\\Lib\\site-packages\\sklearn\\feature_extraction\\text.py:62\u001b[0m, in \u001b[0;36m_preprocess\u001b[1;34m(doc, accent_function, lower)\u001b[0m\n\u001b[0;32m     43\u001b[0m \u001b[38;5;250m\u001b[39m\u001b[38;5;124;03m\"\"\"Chain together an optional series of text preprocessing steps to\u001b[39;00m\n\u001b[0;32m     44\u001b[0m \u001b[38;5;124;03mapply to a document.\u001b[39;00m\n\u001b[0;32m     45\u001b[0m \n\u001b[1;32m   (...)\u001b[0m\n\u001b[0;32m     59\u001b[0m \u001b[38;5;124;03m    preprocessed string\u001b[39;00m\n\u001b[0;32m     60\u001b[0m \u001b[38;5;124;03m\"\"\"\u001b[39;00m\n\u001b[0;32m     61\u001b[0m \u001b[38;5;28;01mif\u001b[39;00m lower:\n\u001b[1;32m---> 62\u001b[0m     doc \u001b[38;5;241m=\u001b[39m doc\u001b[38;5;241m.\u001b[39mlower()\n\u001b[0;32m     63\u001b[0m \u001b[38;5;28;01mif\u001b[39;00m accent_function \u001b[38;5;129;01mis\u001b[39;00m \u001b[38;5;129;01mnot\u001b[39;00m \u001b[38;5;28;01mNone\u001b[39;00m:\n\u001b[0;32m     64\u001b[0m     doc \u001b[38;5;241m=\u001b[39m accent_function(doc)\n",
      "\u001b[1;31mAttributeError\u001b[0m: 'csr_matrix' object has no attribute 'lower'"
     ]
    }
   ],
   "source": [
    "# Transform train and test sets using the TF-IDF vectorizer\n",
    "X_train_tfidf = tfidf_vectorizer.transform(X_train)\n",
    "X_test_tfidf = tfidf_vectorizer.transform(X_test)\n",
    "\n",
    "# Check shapes\n",
    "print(\"TF-IDF Training set shape:\", X_train_tfidf.shape)\n",
    "print(\"TF-IDF Testing set shape:\", X_test_tfidf.shape)\n"
   ]
  },
  {
   "cell_type": "code",
   "execution_count": null,
   "id": "376babf6",
   "metadata": {},
   "outputs": [
    {
     "ename": "NameError",
     "evalue": "name 'X_train_tfidf' is not defined",
     "output_type": "error",
     "traceback": [
      "\u001b[1;31m---------------------------------------------------------------------------\u001b[0m",
      "\u001b[1;31mNameError\u001b[0m                                 Traceback (most recent call last)",
      "Cell \u001b[1;32mIn[12], line 5\u001b[0m\n\u001b[0;32m      2\u001b[0m log_reg \u001b[38;5;241m=\u001b[39m LogisticRegression(max_iter\u001b[38;5;241m=\u001b[39m\u001b[38;5;241m1000\u001b[39m, class_weight\u001b[38;5;241m=\u001b[39m\u001b[38;5;124m\"\u001b[39m\u001b[38;5;124mbalanced\u001b[39m\u001b[38;5;124m\"\u001b[39m, random_state\u001b[38;5;241m=\u001b[39m\u001b[38;5;241m42\u001b[39m)\n\u001b[0;32m      4\u001b[0m \u001b[38;5;66;03m# Fit model on training data\u001b[39;00m\n\u001b[1;32m----> 5\u001b[0m log_reg\u001b[38;5;241m.\u001b[39mfit(X_train_tfidf, y_train)\n\u001b[0;32m      7\u001b[0m \u001b[38;5;66;03m# Make predictions\u001b[39;00m\n\u001b[0;32m      8\u001b[0m y_pred \u001b[38;5;241m=\u001b[39m log_reg\u001b[38;5;241m.\u001b[39mpredict(X_test_tfidf)\n",
      "\u001b[1;31mNameError\u001b[0m: name 'X_train_tfidf' is not defined"
     ]
    }
   ],
   "source": [
    "# Initialize logistic regression with balanced class weights to handle imbalance\n",
    "log_reg = LogisticRegression(max_iter=1000, class_weight=\"balanced\", random_state=42)\n",
    "\n",
    "# Fit model on training data\n",
    "log_reg.fit(X_tfidf, y_train)\n",
    "\n",
    "# Make predictions\n",
    "y_pred = log_reg.predict(X_test_tfidf)\n",
    "\n",
    "# Evaluate model\n",
    "print(\"Accuracy Score:\", accuracy_score(y_test, y_pred))\n",
    "print(\"\\nClassification Report:\\n\", classification_report(y_test, y_pred))\n",
    "print(\"\\nConfusion Matrix:\\n\", confusion_matrix(y_test, y_pred))"
   ]
  }
 ],
 "metadata": {
  "kernelspec": {
   "display_name": "base",
   "language": "python",
   "name": "python3"
  },
  "language_info": {
   "codemirror_mode": {
    "name": "ipython",
    "version": 3
   },
   "file_extension": ".py",
   "mimetype": "text/x-python",
   "name": "python",
   "nbconvert_exporter": "python",
   "pygments_lexer": "ipython3",
   "version": "3.11.5"
  }
 },
 "nbformat": 4,
 "nbformat_minor": 5
}
