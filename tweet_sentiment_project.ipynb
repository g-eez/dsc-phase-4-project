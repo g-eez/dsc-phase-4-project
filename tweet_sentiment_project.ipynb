{
  "nbformat": 4,
  "nbformat_minor": 0,
  "metadata": {
    "colab": {
      "provenance": []
    },
    "kernelspec": {
      "name": "python3",
      "display_name": "Python 3"
    },
    "language_info": {
      "name": "python"
    }
  },
  "cells": [
    {
      "cell_type": "markdown",
      "source": [
        "## Imports & Configuration\n",
        "\n",
        "We import all necessary libraries, set up warnings, and define helper functions for reproducibility and plotting"
      ],
      "metadata": {
        "id": "4ap8GkPXzjQB"
      }
    },
    {
      "cell_type": "code",
      "source": [
        "# Imports & configuration\n",
        "import os\n",
        "import re\n",
        "import json\n",
        "import math\n",
        "import string\n",
        "from collections import Counter\n",
        "from pathlib import Path\n",
        "\n",
        "import numpy as np\n",
        "import pandas as pd\n",
        "import matplotlib.pyplot as plt\n",
        "import seaborn as sns\n",
        "\n",
        "from sklearn.model_selection import train_test_split, StratifiedKFold, cross_val_score, GridSearchCV\n",
        "from sklearn.feature_extraction.text import TfidfVectorizer\n",
        "from sklearn.linear_model import LogisticRegression\n",
        "from sklearn.svm import LinearSVC\n",
        "from sklearn.calibration import CalibratedClassifierCV, calibration_curve\n",
        "from sklearn.pipeline import Pipeline\n",
        "from sklearn.metrics import (\n",
        "    classification_report, confusion_matrix, f1_score, accuracy_score,\n",
        "    precision_recall_fscore_support, roc_auc_score\n",
        ")\n",
        "import joblib\n",
        "\n",
        "# Settings\n",
        "RANDOM_STATE = 42\n",
        "CV_FOLDS = 5\n",
        "SAVEDIR = Path(\"artifacts\")\n",
        "SAVEDIR.mkdir(exist_ok=True)\n",
        "sns.set(style=\"whitegrid\")\n",
        "np.random.seed(RANDOM_STATE)"
      ],
      "metadata": {
        "id": "Y2f1HewazoZp"
      },
      "execution_count": 36,
      "outputs": []
    },
    {
      "cell_type": "markdown",
      "source": [
        "## Load Dataset"
      ],
      "metadata": {
        "id": "Cb5Kdko91MZ_"
      }
    },
    {
      "cell_type": "markdown",
      "source": [
        "Load the CSV and show top rows and quick summaries"
      ],
      "metadata": {
        "id": "vKzCbOOF1EIq"
      }
    },
    {
      "cell_type": "code",
      "source": [
        "# load dataset\n",
        "DATA_PATH = \"/content/sample_data/judge-1377884607_tweet_product_company.csv\"\n",
        "df = pd.read_csv(DATA_PATH, encoding=\"latin1\")"
      ],
      "metadata": {
        "id": "dWThp_NB1OlV"
      },
      "execution_count": 37,
      "outputs": []
    },
    {
      "cell_type": "code",
      "source": [
        "df.shape"
      ],
      "metadata": {
        "colab": {
          "base_uri": "https://localhost:8080/"
        },
        "id": "ld1YRu7F1ZD6",
        "outputId": "055c7eee-5c68-4b36-d55c-dd6ee5897882"
      },
      "execution_count": 38,
      "outputs": [
        {
          "output_type": "execute_result",
          "data": {
            "text/plain": [
              "(9093, 3)"
            ]
          },
          "metadata": {},
          "execution_count": 38
        }
      ]
    },
    {
      "cell_type": "code",
      "source": [
        "df.columns.tolist()"
      ],
      "metadata": {
        "colab": {
          "base_uri": "https://localhost:8080/"
        },
        "id": "ShdPF9i01cBK",
        "outputId": "be2ae7df-2be1-42ea-c956-28bc345f6614"
      },
      "execution_count": 39,
      "outputs": [
        {
          "output_type": "execute_result",
          "data": {
            "text/plain": [
              "['tweet_text',\n",
              " 'emotion_in_tweet_is_directed_at',\n",
              " 'is_there_an_emotion_directed_at_a_brand_or_product']"
            ]
          },
          "metadata": {},
          "execution_count": 39
        }
      ]
    },
    {
      "cell_type": "code",
      "source": [
        "display(df.head())"
      ],
      "metadata": {
        "colab": {
          "base_uri": "https://localhost:8080/",
          "height": 206
        },
        "id": "QLuvwcjT1q1f",
        "outputId": "b3236996-2d47-4668-9e0f-18bdbb1b8e3a"
      },
      "execution_count": 40,
      "outputs": [
        {
          "output_type": "display_data",
          "data": {
            "text/plain": [
              "                                          tweet_text  \\\n",
              "0  .@wesley83 I have a 3G iPhone. After 3 hrs twe...   \n",
              "1  @jessedee Know about @fludapp ? Awesome iPad/i...   \n",
              "2  @swonderlin Can not wait for #iPad 2 also. The...   \n",
              "3  @sxsw I hope this year's festival isn't as cra...   \n",
              "4  @sxtxstate great stuff on Fri #SXSW: Marissa M...   \n",
              "\n",
              "  emotion_in_tweet_is_directed_at  \\\n",
              "0                          iPhone   \n",
              "1              iPad or iPhone App   \n",
              "2                            iPad   \n",
              "3              iPad or iPhone App   \n",
              "4                          Google   \n",
              "\n",
              "  is_there_an_emotion_directed_at_a_brand_or_product  \n",
              "0                                   Negative emotion  \n",
              "1                                   Positive emotion  \n",
              "2                                   Positive emotion  \n",
              "3                                   Negative emotion  \n",
              "4                                   Positive emotion  "
            ],
            "text/html": [
              "\n",
              "  <div id=\"df-8e28b6f3-5d5d-4e8f-bab1-f90dba4c8b14\" class=\"colab-df-container\">\n",
              "    <div>\n",
              "<style scoped>\n",
              "    .dataframe tbody tr th:only-of-type {\n",
              "        vertical-align: middle;\n",
              "    }\n",
              "\n",
              "    .dataframe tbody tr th {\n",
              "        vertical-align: top;\n",
              "    }\n",
              "\n",
              "    .dataframe thead th {\n",
              "        text-align: right;\n",
              "    }\n",
              "</style>\n",
              "<table border=\"1\" class=\"dataframe\">\n",
              "  <thead>\n",
              "    <tr style=\"text-align: right;\">\n",
              "      <th></th>\n",
              "      <th>tweet_text</th>\n",
              "      <th>emotion_in_tweet_is_directed_at</th>\n",
              "      <th>is_there_an_emotion_directed_at_a_brand_or_product</th>\n",
              "    </tr>\n",
              "  </thead>\n",
              "  <tbody>\n",
              "    <tr>\n",
              "      <th>0</th>\n",
              "      <td>.@wesley83 I have a 3G iPhone. After 3 hrs twe...</td>\n",
              "      <td>iPhone</td>\n",
              "      <td>Negative emotion</td>\n",
              "    </tr>\n",
              "    <tr>\n",
              "      <th>1</th>\n",
              "      <td>@jessedee Know about @fludapp ? Awesome iPad/i...</td>\n",
              "      <td>iPad or iPhone App</td>\n",
              "      <td>Positive emotion</td>\n",
              "    </tr>\n",
              "    <tr>\n",
              "      <th>2</th>\n",
              "      <td>@swonderlin Can not wait for #iPad 2 also. The...</td>\n",
              "      <td>iPad</td>\n",
              "      <td>Positive emotion</td>\n",
              "    </tr>\n",
              "    <tr>\n",
              "      <th>3</th>\n",
              "      <td>@sxsw I hope this year's festival isn't as cra...</td>\n",
              "      <td>iPad or iPhone App</td>\n",
              "      <td>Negative emotion</td>\n",
              "    </tr>\n",
              "    <tr>\n",
              "      <th>4</th>\n",
              "      <td>@sxtxstate great stuff on Fri #SXSW: Marissa M...</td>\n",
              "      <td>Google</td>\n",
              "      <td>Positive emotion</td>\n",
              "    </tr>\n",
              "  </tbody>\n",
              "</table>\n",
              "</div>\n",
              "    <div class=\"colab-df-buttons\">\n",
              "\n",
              "  <div class=\"colab-df-container\">\n",
              "    <button class=\"colab-df-convert\" onclick=\"convertToInteractive('df-8e28b6f3-5d5d-4e8f-bab1-f90dba4c8b14')\"\n",
              "            title=\"Convert this dataframe to an interactive table.\"\n",
              "            style=\"display:none;\">\n",
              "\n",
              "  <svg xmlns=\"http://www.w3.org/2000/svg\" height=\"24px\" viewBox=\"0 -960 960 960\">\n",
              "    <path d=\"M120-120v-720h720v720H120Zm60-500h600v-160H180v160Zm220 220h160v-160H400v160Zm0 220h160v-160H400v160ZM180-400h160v-160H180v160Zm440 0h160v-160H620v160ZM180-180h160v-160H180v160Zm440 0h160v-160H620v160Z\"/>\n",
              "  </svg>\n",
              "    </button>\n",
              "\n",
              "  <style>\n",
              "    .colab-df-container {\n",
              "      display:flex;\n",
              "      gap: 12px;\n",
              "    }\n",
              "\n",
              "    .colab-df-convert {\n",
              "      background-color: #E8F0FE;\n",
              "      border: none;\n",
              "      border-radius: 50%;\n",
              "      cursor: pointer;\n",
              "      display: none;\n",
              "      fill: #1967D2;\n",
              "      height: 32px;\n",
              "      padding: 0 0 0 0;\n",
              "      width: 32px;\n",
              "    }\n",
              "\n",
              "    .colab-df-convert:hover {\n",
              "      background-color: #E2EBFA;\n",
              "      box-shadow: 0px 1px 2px rgba(60, 64, 67, 0.3), 0px 1px 3px 1px rgba(60, 64, 67, 0.15);\n",
              "      fill: #174EA6;\n",
              "    }\n",
              "\n",
              "    .colab-df-buttons div {\n",
              "      margin-bottom: 4px;\n",
              "    }\n",
              "\n",
              "    [theme=dark] .colab-df-convert {\n",
              "      background-color: #3B4455;\n",
              "      fill: #D2E3FC;\n",
              "    }\n",
              "\n",
              "    [theme=dark] .colab-df-convert:hover {\n",
              "      background-color: #434B5C;\n",
              "      box-shadow: 0px 1px 3px 1px rgba(0, 0, 0, 0.15);\n",
              "      filter: drop-shadow(0px 1px 2px rgba(0, 0, 0, 0.3));\n",
              "      fill: #FFFFFF;\n",
              "    }\n",
              "  </style>\n",
              "\n",
              "    <script>\n",
              "      const buttonEl =\n",
              "        document.querySelector('#df-8e28b6f3-5d5d-4e8f-bab1-f90dba4c8b14 button.colab-df-convert');\n",
              "      buttonEl.style.display =\n",
              "        google.colab.kernel.accessAllowed ? 'block' : 'none';\n",
              "\n",
              "      async function convertToInteractive(key) {\n",
              "        const element = document.querySelector('#df-8e28b6f3-5d5d-4e8f-bab1-f90dba4c8b14');\n",
              "        const dataTable =\n",
              "          await google.colab.kernel.invokeFunction('convertToInteractive',\n",
              "                                                    [key], {});\n",
              "        if (!dataTable) return;\n",
              "\n",
              "        const docLinkHtml = 'Like what you see? Visit the ' +\n",
              "          '<a target=\"_blank\" href=https://colab.research.google.com/notebooks/data_table.ipynb>data table notebook</a>'\n",
              "          + ' to learn more about interactive tables.';\n",
              "        element.innerHTML = '';\n",
              "        dataTable['output_type'] = 'display_data';\n",
              "        await google.colab.output.renderOutput(dataTable, element);\n",
              "        const docLink = document.createElement('div');\n",
              "        docLink.innerHTML = docLinkHtml;\n",
              "        element.appendChild(docLink);\n",
              "      }\n",
              "    </script>\n",
              "  </div>\n",
              "\n",
              "\n",
              "    <div id=\"df-e06fade5-9861-440a-b6a2-2e90fad02545\">\n",
              "      <button class=\"colab-df-quickchart\" onclick=\"quickchart('df-e06fade5-9861-440a-b6a2-2e90fad02545')\"\n",
              "                title=\"Suggest charts\"\n",
              "                style=\"display:none;\">\n",
              "\n",
              "<svg xmlns=\"http://www.w3.org/2000/svg\" height=\"24px\"viewBox=\"0 0 24 24\"\n",
              "     width=\"24px\">\n",
              "    <g>\n",
              "        <path d=\"M19 3H5c-1.1 0-2 .9-2 2v14c0 1.1.9 2 2 2h14c1.1 0 2-.9 2-2V5c0-1.1-.9-2-2-2zM9 17H7v-7h2v7zm4 0h-2V7h2v10zm4 0h-2v-4h2v4z\"/>\n",
              "    </g>\n",
              "</svg>\n",
              "      </button>\n",
              "\n",
              "<style>\n",
              "  .colab-df-quickchart {\n",
              "      --bg-color: #E8F0FE;\n",
              "      --fill-color: #1967D2;\n",
              "      --hover-bg-color: #E2EBFA;\n",
              "      --hover-fill-color: #174EA6;\n",
              "      --disabled-fill-color: #AAA;\n",
              "      --disabled-bg-color: #DDD;\n",
              "  }\n",
              "\n",
              "  [theme=dark] .colab-df-quickchart {\n",
              "      --bg-color: #3B4455;\n",
              "      --fill-color: #D2E3FC;\n",
              "      --hover-bg-color: #434B5C;\n",
              "      --hover-fill-color: #FFFFFF;\n",
              "      --disabled-bg-color: #3B4455;\n",
              "      --disabled-fill-color: #666;\n",
              "  }\n",
              "\n",
              "  .colab-df-quickchart {\n",
              "    background-color: var(--bg-color);\n",
              "    border: none;\n",
              "    border-radius: 50%;\n",
              "    cursor: pointer;\n",
              "    display: none;\n",
              "    fill: var(--fill-color);\n",
              "    height: 32px;\n",
              "    padding: 0;\n",
              "    width: 32px;\n",
              "  }\n",
              "\n",
              "  .colab-df-quickchart:hover {\n",
              "    background-color: var(--hover-bg-color);\n",
              "    box-shadow: 0 1px 2px rgba(60, 64, 67, 0.3), 0 1px 3px 1px rgba(60, 64, 67, 0.15);\n",
              "    fill: var(--button-hover-fill-color);\n",
              "  }\n",
              "\n",
              "  .colab-df-quickchart-complete:disabled,\n",
              "  .colab-df-quickchart-complete:disabled:hover {\n",
              "    background-color: var(--disabled-bg-color);\n",
              "    fill: var(--disabled-fill-color);\n",
              "    box-shadow: none;\n",
              "  }\n",
              "\n",
              "  .colab-df-spinner {\n",
              "    border: 2px solid var(--fill-color);\n",
              "    border-color: transparent;\n",
              "    border-bottom-color: var(--fill-color);\n",
              "    animation:\n",
              "      spin 1s steps(1) infinite;\n",
              "  }\n",
              "\n",
              "  @keyframes spin {\n",
              "    0% {\n",
              "      border-color: transparent;\n",
              "      border-bottom-color: var(--fill-color);\n",
              "      border-left-color: var(--fill-color);\n",
              "    }\n",
              "    20% {\n",
              "      border-color: transparent;\n",
              "      border-left-color: var(--fill-color);\n",
              "      border-top-color: var(--fill-color);\n",
              "    }\n",
              "    30% {\n",
              "      border-color: transparent;\n",
              "      border-left-color: var(--fill-color);\n",
              "      border-top-color: var(--fill-color);\n",
              "      border-right-color: var(--fill-color);\n",
              "    }\n",
              "    40% {\n",
              "      border-color: transparent;\n",
              "      border-right-color: var(--fill-color);\n",
              "      border-top-color: var(--fill-color);\n",
              "    }\n",
              "    60% {\n",
              "      border-color: transparent;\n",
              "      border-right-color: var(--fill-color);\n",
              "    }\n",
              "    80% {\n",
              "      border-color: transparent;\n",
              "      border-right-color: var(--fill-color);\n",
              "      border-bottom-color: var(--fill-color);\n",
              "    }\n",
              "    90% {\n",
              "      border-color: transparent;\n",
              "      border-bottom-color: var(--fill-color);\n",
              "    }\n",
              "  }\n",
              "</style>\n",
              "\n",
              "      <script>\n",
              "        async function quickchart(key) {\n",
              "          const quickchartButtonEl =\n",
              "            document.querySelector('#' + key + ' button');\n",
              "          quickchartButtonEl.disabled = true;  // To prevent multiple clicks.\n",
              "          quickchartButtonEl.classList.add('colab-df-spinner');\n",
              "          try {\n",
              "            const charts = await google.colab.kernel.invokeFunction(\n",
              "                'suggestCharts', [key], {});\n",
              "          } catch (error) {\n",
              "            console.error('Error during call to suggestCharts:', error);\n",
              "          }\n",
              "          quickchartButtonEl.classList.remove('colab-df-spinner');\n",
              "          quickchartButtonEl.classList.add('colab-df-quickchart-complete');\n",
              "        }\n",
              "        (() => {\n",
              "          let quickchartButtonEl =\n",
              "            document.querySelector('#df-e06fade5-9861-440a-b6a2-2e90fad02545 button');\n",
              "          quickchartButtonEl.style.display =\n",
              "            google.colab.kernel.accessAllowed ? 'block' : 'none';\n",
              "        })();\n",
              "      </script>\n",
              "    </div>\n",
              "\n",
              "    </div>\n",
              "  </div>\n"
            ],
            "application/vnd.google.colaboratory.intrinsic+json": {
              "type": "dataframe",
              "summary": "{\n  \"name\": \"display(df\",\n  \"rows\": 5,\n  \"fields\": [\n    {\n      \"column\": \"tweet_text\",\n      \"properties\": {\n        \"dtype\": \"string\",\n        \"num_unique_values\": 5,\n        \"samples\": [\n          \"@jessedee Know about @fludapp ? Awesome iPad/iPhone app that you'll likely appreciate for its design. Also, they're giving free Ts at #SXSW\",\n          \"@sxtxstate great stuff on Fri #SXSW: Marissa Mayer (Google), Tim O'Reilly (tech books/conferences) &amp; Matt Mullenweg (Wordpress)\",\n          \"@swonderlin Can not wait for #iPad 2 also. They should sale them down at #SXSW.\"\n        ],\n        \"semantic_type\": \"\",\n        \"description\": \"\"\n      }\n    },\n    {\n      \"column\": \"emotion_in_tweet_is_directed_at\",\n      \"properties\": {\n        \"dtype\": \"string\",\n        \"num_unique_values\": 4,\n        \"samples\": [\n          \"iPad or iPhone App\",\n          \"Google\",\n          \"iPhone\"\n        ],\n        \"semantic_type\": \"\",\n        \"description\": \"\"\n      }\n    },\n    {\n      \"column\": \"is_there_an_emotion_directed_at_a_brand_or_product\",\n      \"properties\": {\n        \"dtype\": \"category\",\n        \"num_unique_values\": 2,\n        \"samples\": [\n          \"Positive emotion\",\n          \"Negative emotion\"\n        ],\n        \"semantic_type\": \"\",\n        \"description\": \"\"\n      }\n    }\n  ]\n}"
            }
          },
          "metadata": {}
        }
      ]
    },
    {
      "cell_type": "code",
      "source": [
        "display(df.info())"
      ],
      "metadata": {
        "colab": {
          "base_uri": "https://localhost:8080/",
          "height": 208
        },
        "id": "522eTmLq1w_B",
        "outputId": "b5082f7c-4359-4147-a66c-fbdd445f7ea4"
      },
      "execution_count": 41,
      "outputs": [
        {
          "output_type": "stream",
          "name": "stdout",
          "text": [
            "<class 'pandas.core.frame.DataFrame'>\n",
            "RangeIndex: 9093 entries, 0 to 9092\n",
            "Data columns (total 3 columns):\n",
            " #   Column                                              Non-Null Count  Dtype \n",
            "---  ------                                              --------------  ----- \n",
            " 0   tweet_text                                          9092 non-null   object\n",
            " 1   emotion_in_tweet_is_directed_at                     3291 non-null   object\n",
            " 2   is_there_an_emotion_directed_at_a_brand_or_product  9093 non-null   object\n",
            "dtypes: object(3)\n",
            "memory usage: 213.2+ KB\n"
          ]
        },
        {
          "output_type": "display_data",
          "data": {
            "text/plain": [
              "None"
            ]
          },
          "metadata": {}
        }
      ]
    },
    {
      "cell_type": "markdown",
      "source": [
        "## Quick label inspection and cleaning plan"
      ],
      "metadata": {
        "id": "rZaG4tem14EO"
      }
    },
    {
      "cell_type": "markdown",
      "source": [
        "Inspect target label distribution and nulls; define allowed labels and show counts"
      ],
      "metadata": {
        "id": "pa7juj0A19NF"
      }
    },
    {
      "cell_type": "code",
      "source": [
        "# Inspect labels and missing values\n",
        "label_col = \"is_there_an_emotion_directed_at_a_brand_or_product\"\n",
        "text_col = \"tweet_text\""
      ],
      "metadata": {
        "id": "RLsyZJ8t12d-"
      },
      "execution_count": 42,
      "outputs": []
    },
    {
      "cell_type": "code",
      "source": [
        "print(\"Missing in text:\", df[text_col].isna().sum())\n",
        "print(\"Missing in label:\", df[label_col].isna().sum())\n",
        "print(\"\\nLabel value counts:\")\n",
        "vc = df[label_col].value_counts(dropna=False)\n",
        "display(vc)"
      ],
      "metadata": {
        "colab": {
          "base_uri": "https://localhost:8080/",
          "height": 310
        },
        "id": "PNreq_q92MkJ",
        "outputId": "531f9be8-20da-405f-bc54-5a281cf17018"
      },
      "execution_count": 43,
      "outputs": [
        {
          "output_type": "stream",
          "name": "stdout",
          "text": [
            "Missing in text: 1\n",
            "Missing in label: 0\n",
            "\n",
            "Label value counts:\n"
          ]
        },
        {
          "output_type": "display_data",
          "data": {
            "text/plain": [
              "is_there_an_emotion_directed_at_a_brand_or_product\n",
              "No emotion toward brand or product    5389\n",
              "Positive emotion                      2978\n",
              "Negative emotion                       570\n",
              "I can't tell                           156\n",
              "Name: count, dtype: int64"
            ],
            "text/html": [
              "<div>\n",
              "<style scoped>\n",
              "    .dataframe tbody tr th:only-of-type {\n",
              "        vertical-align: middle;\n",
              "    }\n",
              "\n",
              "    .dataframe tbody tr th {\n",
              "        vertical-align: top;\n",
              "    }\n",
              "\n",
              "    .dataframe thead th {\n",
              "        text-align: right;\n",
              "    }\n",
              "</style>\n",
              "<table border=\"1\" class=\"dataframe\">\n",
              "  <thead>\n",
              "    <tr style=\"text-align: right;\">\n",
              "      <th></th>\n",
              "      <th>count</th>\n",
              "    </tr>\n",
              "    <tr>\n",
              "      <th>is_there_an_emotion_directed_at_a_brand_or_product</th>\n",
              "      <th></th>\n",
              "    </tr>\n",
              "  </thead>\n",
              "  <tbody>\n",
              "    <tr>\n",
              "      <th>No emotion toward brand or product</th>\n",
              "      <td>5389</td>\n",
              "    </tr>\n",
              "    <tr>\n",
              "      <th>Positive emotion</th>\n",
              "      <td>2978</td>\n",
              "    </tr>\n",
              "    <tr>\n",
              "      <th>Negative emotion</th>\n",
              "      <td>570</td>\n",
              "    </tr>\n",
              "    <tr>\n",
              "      <th>I can't tell</th>\n",
              "      <td>156</td>\n",
              "    </tr>\n",
              "  </tbody>\n",
              "</table>\n",
              "</div><br><label><b>dtype:</b> int64</label>"
            ]
          },
          "metadata": {}
        }
      ]
    },
    {
      "cell_type": "code",
      "source": [
        "# Keep the set of labels present (we'll filter to these - avoids odd values)\n",
        "allowed_labels = vc.index.tolist()\n",
        "print(\"\\nAllowed labels (detected):\", allowed_labels)"
      ],
      "metadata": {
        "colab": {
          "base_uri": "https://localhost:8080/"
        },
        "id": "oYn14oKZ2Rl-",
        "outputId": "95083b12-eba6-490a-bbd4-7e0c45133198"
      },
      "execution_count": 44,
      "outputs": [
        {
          "output_type": "stream",
          "name": "stdout",
          "text": [
            "\n",
            "Allowed labels (detected): ['No emotion toward brand or product', 'Positive emotion', 'Negative emotion', \"I can't tell\"]\n"
          ]
        }
      ]
    },
    {
      "cell_type": "markdown",
      "source": [
        "## Text cleaning function"
      ],
      "metadata": {
        "id": "slj4jxLv2UIi"
      }
    },
    {
      "cell_type": "markdown",
      "source": [
        "Define a conservative text cleaner: remove URLs, normalize mentions, keep hashtags as tokens, and remove excessive whitespace. This preserves tokens useful for stakeholders."
      ],
      "metadata": {
        "id": "CeBLFJ4Q2Wpn"
      }
    },
    {
      "cell_type": "code",
      "source": [
        "# Basic text cleaning function (conservative)\n",
        "URL_RE = re.compile(r\"https?://\\S+|www\\.\\S+\")\n",
        "USER_RE = re.compile(r\"@\\w+\")\n",
        "HASHTAG_RE = re.compile(r\"#(\\w+)\")\n",
        "NON_ALPHANUMERIC_RE = re.compile(r\"[^\\w\\s#@']\")\n",
        "\n",
        "def clean_text_basic(text):\n",
        "    if not isinstance(text, str):\n",
        "        return \"\"\n",
        "    t = text\n",
        "    t = URL_RE.sub(\" \", t)\n",
        "    t = USER_RE.sub(\" @user \", t)            # normalize mentions\n",
        "    t = HASHTAG_RE.sub(r\" hashtag_\\1 \", t)  # preserve hashtag token\n",
        "    t = NON_ALPHANUMERIC_RE.sub(\" \", t)     # drop punctuation except underscores (keeps hashtags)\n",
        "    t = re.sub(r\"\\s+\", \" \", t).strip()\n",
        "    return t.lower()"
      ],
      "metadata": {
        "id": "Jo382-xV2cau"
      },
      "execution_count": 45,
      "outputs": []
    },
    {
      "cell_type": "code",
      "source": [
        "# Quick check\n",
        "sample_text = df[text_col].dropna().astype(str).iloc[0]\n",
        "print(\"Original:\", sample_text)\n",
        "print(\"Cleaned :\", clean_text_basic(sample_text))"
      ],
      "metadata": {
        "colab": {
          "base_uri": "https://localhost:8080/"
        },
        "id": "rx8tad3C2fMx",
        "outputId": "87384c4f-0b7f-4160-ff59-43b9f32a590d"
      },
      "execution_count": 46,
      "outputs": [
        {
          "output_type": "stream",
          "name": "stdout",
          "text": [
            "Original: .@wesley83 I have a 3G iPhone. After 3 hrs tweeting at #RISE_Austin, it was dead!  I need to upgrade. Plugin stations at #SXSW.\n",
            "Cleaned : @user i have a 3g iphone after 3 hrs tweeting at hashtag_rise_austin it was dead i need to upgrade plugin stations at hashtag_sxsw\n"
          ]
        }
      ]
    },
    {
      "cell_type": "markdown",
      "source": [
        "## Apply cleaning, filter labels, and split"
      ],
      "metadata": {
        "id": "Zl7KpoAO2hIp"
      }
    },
    {
      "cell_type": "markdown",
      "source": [
        "Apply cleaning, drop rows with missing text or labels, restrict to detected labels, and create stratified train/val/test splits."
      ],
      "metadata": {
        "id": "h9_AZpEn2m_N"
      }
    },
    {
      "cell_type": "code",
      "source": [
        "# Prepare dataframe\n",
        "df = df.dropna(subset=[text_col, label_col]).copy()\n",
        "df[\"clean_text\"] = df[text_col].map(clean_text_basic)"
      ],
      "metadata": {
        "id": "0vU2qoMe2qaR"
      },
      "execution_count": 47,
      "outputs": []
    },
    {
      "cell_type": "code",
      "source": [
        "# Filter to allowed labels detected earlier (defensive)\n",
        "df = df[df[label_col].isin(allowed_labels)].reset_index(drop=True)"
      ],
      "metadata": {
        "id": "0EpA8jlz2sm2"
      },
      "execution_count": 48,
      "outputs": []
    },
    {
      "cell_type": "code",
      "source": [
        "# Train / validation / test split (80/10/10 stratified)\n",
        "X = df[\"clean_text\"].values\n",
        "y = df[label_col].values"
      ],
      "metadata": {
        "id": "KXfjLZlq2vE6"
      },
      "execution_count": 49,
      "outputs": []
    },
    {
      "cell_type": "code",
      "source": [
        "X_train, X_temp, y_train, y_temp = train_test_split(\n",
        "    X, y, test_size=0.2, random_state=RANDOM_STATE, stratify=y\n",
        ")\n",
        "X_val, X_test, y_val, y_test = train_test_split(\n",
        "    X_temp, y_temp, test_size=0.5, random_state=RANDOM_STATE, stratify=y_temp\n",
        ")\n",
        "\n",
        "print(\"Train:\", len(X_train), \"Val:\", len(X_val), \"Test:\", len(X_test))\n",
        "print(\"Train label distribution:\\n\", pd.Series(y_train).value_counts(normalize=True))"
      ],
      "metadata": {
        "colab": {
          "base_uri": "https://localhost:8080/"
        },
        "id": "efJ5siYi2zWG",
        "outputId": "76ffdb98-f49c-4d20-c958-0166b0d954b5"
      },
      "execution_count": 50,
      "outputs": [
        {
          "output_type": "stream",
          "name": "stdout",
          "text": [
            "Train: 7273 Val: 909 Test: 910\n",
            "Train label distribution:\n",
            " No emotion toward brand or product    0.592603\n",
            "Positive emotion                      0.327513\n",
            "Negative emotion                      0.062698\n",
            "I can't tell                          0.017187\n",
            "Name: proportion, dtype: float64\n"
          ]
        }
      ]
    },
    {
      "cell_type": "markdown",
      "source": [
        "## EDA, label distribution and length"
      ],
      "metadata": {
        "id": "NUX0wZ_K224g"
      }
    },
    {
      "cell_type": "markdown",
      "source": [
        "Visualize class balance and tweet length distribution to communicate dataset characteristics to stakeholders."
      ],
      "metadata": {
        "id": "leruncJZ29Ny"
      }
    },
    {
      "cell_type": "code",
      "source": [
        "# Plot label distribution (train)\n",
        "plt.figure(figsize=(8,4))\n",
        "pd.Series(y_train).value_counts().plot(kind=\"bar\")\n",
        "plt.title(\"Train set label counts\")\n",
        "plt.ylabel(\"count\")\n",
        "plt.tight_layout()\n",
        "plt.show()"
      ],
      "metadata": {
        "colab": {
          "base_uri": "https://localhost:8080/",
          "height": 401
        },
        "id": "U-y6kMkw27MB",
        "outputId": "dbd46a1e-fea1-4028-d7ca-23c7032a2195"
      },
      "execution_count": 51,
      "outputs": [
        {
          "output_type": "display_data",
          "data": {
            "text/plain": [
              "<Figure size 800x400 with 1 Axes>"
            ],
            "image/png": "[encoded data removed]"
          },
          "metadata": {}
        }
      ]
    },
    {
      "cell_type": "code",
      "source": [
        "# Tweet length (word count)\n",
        "def word_count(s): return len(str(s).split())\n",
        "train_lengths = [word_count(t) for t in X_train]\n",
        "plt.figure(figsize=(8,4))\n",
        "sns.histplot(train_lengths, bins=30, kde=True)\n",
        "plt.title(\"Train tweet length (words)\")\n",
        "plt.xlabel(\"Words per tweet\")\n",
        "plt.tight_layout()\n",
        "plt.show()"
      ],
      "metadata": {
        "colab": {
          "base_uri": "https://localhost:8080/",
          "height": 401
        },
        "id": "cUy7lVwp3BVs",
        "outputId": "d549aa64-06c4-4f80-ce78-b0dab2138204"
      },
      "execution_count": 52,
      "outputs": [
        {
          "output_type": "display_data",
          "data": {
            "text/plain": [
              "<Figure size 800x400 with 1 Axes>"
            ],
            "image/png": "[encoded data removed]"
          },
          "metadata": {}
        }
      ]
    },
    {
      "cell_type": "markdown",
      "source": [
        "## Quick top tokens per label"
      ],
      "metadata": {
        "id": "oP8Sjdoh3EZr"
      }
    },
    {
      "cell_type": "markdown",
      "source": [
        "Show top unigrams for each class using TF-IDF-like frequency — useful to quickly explain what each class talks about."
      ],
      "metadata": {
        "id": "RjLfyiIg3JCI"
      }
    },
    {
      "cell_type": "code",
      "source": [
        "# Top tokens per label (simple frequency-based)\n",
        "from sklearn.feature_extraction.text import CountVectorizer\n",
        "\n",
        "def top_tokens_for_label(texts, n=15):\n",
        "    vec = CountVectorizer(ngram_range=(1,1), stop_words=\"english\", min_df=2)\n",
        "    Xc = vec.fit_transform(texts)\n",
        "    sums = np.asarray(Xc.sum(axis=0)).ravel()\n",
        "    tokens = np.array(vec.get_feature_names_out())\n",
        "    top_idx = np.argsort(sums)[::-1][:n]\n",
        "    return list(zip(tokens[top_idx], sums[top_idx]))\n",
        "\n",
        "labels = pd.Series(y_train).unique().tolist()\n",
        "print(\"Top tokens per label (train subset):\")\n",
        "for lab in labels:\n",
        "    texts = [t for t,l in zip(X_train, y_train) if l == lab]\n",
        "    tops = top_tokens_for_label(texts, n=10)\n",
        "    print(f\"\\n{lab} (n={len(texts)})\")\n",
        "    print(\", \".join([f\"{tok}({cnt})\" for tok,cnt in tops]))\n"
      ],
      "metadata": {
        "colab": {
          "base_uri": "https://localhost:8080/"
        },
        "id": "AtYavjaG3L8G",
        "outputId": "48e4ddb5-0922-4a37-cb42-b014d596da60"
      },
      "execution_count": 53,
      "outputs": [
        {
          "output_type": "stream",
          "name": "stdout",
          "text": [
            "Top tokens per label (train subset):\n",
            "\n",
            "No emotion toward brand or product (n=4310)\n",
            "hashtag_sxsw(4317), user(3630), link(2369), rt(1488), google(1182), ipad(890), apple(821), quot(782), store(705), new(547)\n",
            "\n",
            "Negative emotion (n=456)\n",
            "hashtag_sxsw(456), user(258), quot(145), ipad(135), iphone(120), google(116), rt(113), link(89), apple(88), app(47)\n",
            "\n",
            "Positive emotion (n=2382)\n",
            "hashtag_sxsw(2398), user(1781), link(968), ipad(760), rt(745), apple(613), google(524), store(450), quot(383), iphone(370)\n",
            "\n",
            "I can't tell (n=125)\n",
            "hashtag_sxsw(126), user(79), google(40), link(37), ipad(31), apple(29), rt(29), quot(26), iphone(25), store(20)\n"
          ]
        }
      ]
    },
    {
      "cell_type": "markdown",
      "source": [
        "## Baseline pipeline: TF-IDF and Logistic Regression"
      ],
      "metadata": {
        "id": "outyZN2v3QXj"
      }
    },
    {
      "cell_type": "code",
      "source": [
        "# Baseline pipeline and CV scoring\n",
        "baseline_pipe = Pipeline([\n",
        "    (\"tfidf\", TfidfVectorizer(ngram_range=(1,1), min_df=3, max_df=0.95)),\n",
        "    (\"clf\", LogisticRegression(multi_class=\"multinomial\", solver=\"saga\", max_iter=1000,\n",
        "                               class_weight=\"balanced\", random_state=RANDOM_STATE))\n",
        "])\n",
        "\n",
        "cv = StratifiedKFold(n_splits=CV_FOLDS, shuffle=True, random_state=RANDOM_STATE)\n",
        "baseline_cv_scores = cross_val_score(baseline_pipe, X_train, y_train, scoring=\"f1_macro\", cv=cv, n_jobs=-1)\n",
        "print(\"Baseline CV macro-F1 (mean ± std):\", f\"{baseline_cv_scores.mean():.4f} ± {baseline_cv_scores.std():.4f}\")"
      ],
      "metadata": {
        "colab": {
          "base_uri": "https://localhost:8080/"
        },
        "id": "t4CatxnT3U9Y",
        "outputId": "ca13cc74-6716-4ed1-f84b-ccc827631bbf"
      },
      "execution_count": 54,
      "outputs": [
        {
          "output_type": "stream",
          "name": "stdout",
          "text": [
            "Baseline CV macro-F1 (mean ± std): 0.2083 ± 0.1118\n"
          ]
        }
      ]
    },
    {
      "cell_type": "code",
      "source": [
        "# Fit on full train and evaluate on validation\n",
        "baseline_pipe.fit(X_train, y_train)\n",
        "y_val_pred_baseline = baseline_pipe.predict(X_val)\n",
        "print(\"\\nValidation classification report (baseline):\")\n",
        "print(classification_report(y_val, y_val_pred_baseline, digits=4))"
      ],
      "metadata": {
        "colab": {
          "base_uri": "https://localhost:8080/"
        },
        "id": "sFxCKBYv3YHV",
        "outputId": "065aa6c8-1d41-49dd-9630-0b1209abf439"
      },
      "execution_count": 55,
      "outputs": [
        {
          "output_type": "stream",
          "name": "stderr",
          "text": [
            "/usr/local/lib/python3.12/dist-packages/sklearn/linear_model/_logistic.py:1247: FutureWarning: 'multi_class' was deprecated in version 1.5 and will be removed in 1.7. From then on, it will always use 'multinomial'. Leave it to its default value to avoid this warning.\n",
            "  warnings.warn(\n"
          ]
        },
        {
          "output_type": "stream",
          "name": "stdout",
          "text": [
            "\n",
            "Validation classification report (baseline):\n",
            "                                    precision    recall  f1-score   support\n",
            "\n",
            "                      I can't tell     0.0252    0.2000    0.0448        15\n",
            "                  Negative emotion     0.1182    0.6491    0.2000        57\n",
            "No emotion toward brand or product     0.7465    0.3989    0.5200       539\n",
            "                  Positive emotion     0.5767    0.3658    0.4476       298\n",
            "\n",
            "                          accuracy                         0.4004       909\n",
            "                         macro avg     0.3667    0.4034    0.3031       909\n",
            "                      weighted avg     0.6396    0.4004    0.4683       909\n",
            "\n"
          ]
        },
        {
          "output_type": "stream",
          "name": "stderr",
          "text": [
            "/usr/local/lib/python3.12/dist-packages/sklearn/linear_model/_sag.py:348: ConvergenceWarning: The max_iter was reached which means the coef_ did not converge\n",
            "  warnings.warn(\n"
          ]
        }
      ]
    },
    {
      "cell_type": "markdown",
      "source": [
        "## Improved model: TF-IDF (word+char ngrams) and LinearSVC with GridSearch"
      ],
      "metadata": {
        "id": "5I18L5IZ3hCB"
      }
    },
    {
      "cell_type": "markdown",
      "source": [
        "Use a stronger text representation with word n-grams and character n-grams, tuned LinearSVC. GridSearch is limited but meaningful."
      ],
      "metadata": {
        "id": "k0FWnQe93kJO"
      }
    },
    {
      "cell_type": "code",
      "source": [
        "# Improved pipeline and parameter tuning\n",
        "pipe_svm = Pipeline([\n",
        "    (\"tfidf\", TfidfVectorizer(analyzer=\"word\", ngram_range=(1,2), min_df=2, max_df=0.95, sublinear_tf=True)),\n",
        "    (\"clf\", LinearSVC(class_weight=\"balanced\", random_state=RANDOM_STATE, max_iter=5000))\n",
        "])\n",
        "\n",
        "param_grid = {\n",
        "    \"tfidf__ngram_range\": [(1,2), (1,3)],\n",
        "    \"tfidf__min_df\": [2,3],\n",
        "    \"clf__C\": [0.5, 1.0]\n",
        "}\n",
        "\n",
        "grid = GridSearchCV(pipe_svm, param_grid, scoring=\"f1_macro\", cv=cv, n_jobs=-1, verbose=1)\n",
        "grid.fit(X_train, y_train)\n",
        "\n",
        "print(\"Best params:\", grid.best_params_)\n",
        "print(\"Best CV macro-F1:\", grid.best_score_)\n",
        "\n",
        "best_svm = grid.best_estimator_\n",
        "y_val_pred_svm = best_svm.predict(X_val)\n",
        "print(\"\\nValidation classification report (best SVM):\")\n",
        "print(classification_report(y_val, y_val_pred_svm, digits=4))"
      ],
      "metadata": {
        "colab": {
          "base_uri": "https://localhost:8080/"
        },
        "id": "rrjUodor3oMv",
        "outputId": "6becd03a-60bb-41cc-ae5f-00fe49b0d6ee"
      },
      "execution_count": 56,
      "outputs": [
        {
          "output_type": "stream",
          "name": "stdout",
          "text": [
            "Fitting 5 folds for each of 8 candidates, totalling 40 fits\n",
            "Best params: {'clf__C': 0.5, 'tfidf__min_df': 2, 'tfidf__ngram_range': (1, 2)}\n",
            "Best CV macro-F1: 0.44629277465209566\n",
            "\n",
            "Validation classification report (best SVM):\n",
            "                                    precision    recall  f1-score   support\n",
            "\n",
            "                      I can't tell     0.0000    0.0000    0.0000        15\n",
            "                  Negative emotion     0.4348    0.3509    0.3883        57\n",
            "No emotion toward brand or product     0.7194    0.7421    0.7306       539\n",
            "                  Positive emotion     0.5782    0.5705    0.5743       298\n",
            "\n",
            "                          accuracy                         0.6491       909\n",
            "                         macro avg     0.4331    0.4159    0.4233       909\n",
            "                      weighted avg     0.6434    0.6491    0.6458       909\n",
            "\n"
          ]
        }
      ]
    },
    {
      "cell_type": "markdown",
      "source": [
        "## Calibrated classifier for probabilities and confidence"
      ],
      "metadata": {
        "id": "SMBJLFrY3tXi"
      }
    },
    {
      "cell_type": "markdown",
      "source": [
        "Wrap best SVM in a calibration method (sigmoid) to produce probabilities and allow confidence-based routing."
      ],
      "metadata": {
        "id": "VXqF8X3N3u9i"
      }
    },
    {
      "cell_type": "code",
      "source": [
        "# Calibrate SVM for probability estimates\n",
        "calibrator = CalibratedClassifierCV(estimator=best_svm.named_steps[\"clf\"], method=\"sigmoid\", cv=3)\n",
        "# We need pipeline: fit tfidf then calibrator on transformed features\n",
        "# Extract tfidf and fit transform\n",
        "tfidf = best_svm.named_steps[\"tfidf\"]\n",
        "X_train_tfidf = tfidf.fit_transform(X_train)\n",
        "X_val_tfidf = tfidf.transform(X_val)\n",
        "calibrator.fit(X_train_tfidf, y_train)"
      ],
      "metadata": {
        "colab": {
          "base_uri": "https://localhost:8080/",
          "height": 181
        },
        "id": "jC1dSCS-31RG",
        "outputId": "e8658341-7ef2-48f8-8f3d-5a1498975ee9"
      },
      "execution_count": 57,
      "outputs": [
        {
          "output_type": "execute_result",
          "data": {
            "text/plain": [
              "CalibratedClassifierCV(cv=3,\n",
              "                       estimator=LinearSVC(C=0.5, class_weight='balanced',\n",
              "                                           max_iter=5000, random_state=42))"
            ],
            "text/html": [
              "<style>#sk-container-id-2 {\n",
              "  /* Definition of color scheme common for light and dark mode */\n",
              "  --sklearn-color-text: #000;\n",
              "  --sklearn-color-text-muted: #666;\n",
              "  --sklearn-color-line: gray;\n",
              "  /* Definition of color scheme for unfitted estimators */\n",
              "  --sklearn-color-unfitted-level-0: #fff5e6;\n",
              "  --sklearn-color-unfitted-level-1: #f6e4d2;\n",
              "  --sklearn-color-unfitted-level-2: #ffe0b3;\n",
              "  --sklearn-color-unfitted-level-3: chocolate;\n",
              "  /* Definition of color scheme for fitted estimators */\n",
              "  --sklearn-color-fitted-level-0: #f0f8ff;\n",
              "  --sklearn-color-fitted-level-1: #d4ebff;\n",
              "  --sklearn-color-fitted-level-2: #b3dbfd;\n",
              "  --sklearn-color-fitted-level-3: cornflowerblue;\n",
              "\n",
              "  /* Specific color for light theme */\n",
              "  --sklearn-color-text-on-default-background: var(--sg-text-color, var(--theme-code-foreground, var(--jp-content-font-color1, black)));\n",
              "  --sklearn-color-background: var(--sg-background-color, var(--theme-background, var(--jp-layout-color0, white)));\n",
              "  --sklearn-color-border-box: var(--sg-text-color, var(--theme-code-foreground, var(--jp-content-font-color1, black)));\n",
              "  --sklearn-color-icon: #696969;\n",
              "\n",
              "  @media (prefers-color-scheme: dark) {\n",
              "    /* Redefinition of color scheme for dark theme */\n",
              "    --sklearn-color-text-on-default-background: var(--sg-text-color, var(--theme-code-foreground, var(--jp-content-font-color1, white)));\n",
              "    --sklearn-color-background: var(--sg-background-color, var(--theme-background, var(--jp-layout-color0, #111)));\n",
              "    --sklearn-color-border-box: var(--sg-text-color, var(--theme-code-foreground, var(--jp-content-font-color1, white)));\n",
              "    --sklearn-color-icon: #878787;\n",
              "  }\n",
              "}\n",
              "\n",
              "#sk-container-id-2 {\n",
              "  color: var(--sklearn-color-text);\n",
              "}\n",
              "\n",
              "#sk-container-id-2 pre {\n",
              "  padding: 0;\n",
              "}\n",
              "\n",
              "#sk-container-id-2 input.sk-hidden--visually {\n",
              "  border: 0;\n",
              "  clip: rect(1px 1px 1px 1px);\n",
              "  clip: rect(1px, 1px, 1px, 1px);\n",
              "  height: 1px;\n",
              "  margin: -1px;\n",
              "  overflow: hidden;\n",
              "  padding: 0;\n",
              "  position: absolute;\n",
              "  width: 1px;\n",
              "}\n",
              "\n",
              "#sk-container-id-2 div.sk-dashed-wrapped {\n",
              "  border: 1px dashed var(--sklearn-color-line);\n",
              "  margin: 0 0.4em 0.5em 0.4em;\n",
              "  box-sizing: border-box;\n",
              "  padding-bottom: 0.4em;\n",
              "  background-color: var(--sklearn-color-background);\n",
              "}\n",
              "\n",
              "#sk-container-id-2 div.sk-container {\n",
              "  /* jupyter's `normalize.less` sets `[hidden] { display: none; }`\n",
              "     but bootstrap.min.css set `[hidden] { display: none !important; }`\n",
              "     so we also need the `!important` here to be able to override the\n",
              "     default hidden behavior on the sphinx rendered scikit-learn.org.\n",
              "     See: https://github.com/scikit-learn/scikit-learn/issues/21755 */\n",
              "  display: inline-block !important;\n",
              "  position: relative;\n",
              "}\n",
              "\n",
              "#sk-container-id-2 div.sk-text-repr-fallback {\n",
              "  display: none;\n",
              "}\n",
              "\n",
              "div.sk-parallel-item,\n",
              "div.sk-serial,\n",
              "div.sk-item {\n",
              "  /* draw centered vertical line to link estimators */\n",
              "  background-image: linear-gradient(var(--sklearn-color-text-on-default-background), var(--sklearn-color-text-on-default-background));\n",
              "  background-size: 2px 100%;\n",
              "  background-repeat: no-repeat;\n",
              "  background-position: center center;\n",
              "}\n",
              "\n",
              "/* Parallel-specific style estimator block */\n",
              "\n",
              "#sk-container-id-2 div.sk-parallel-item::after {\n",
              "  content: \"\";\n",
              "  width: 100%;\n",
              "  border-bottom: 2px solid var(--sklearn-color-text-on-default-background);\n",
              "  flex-grow: 1;\n",
              "}\n",
              "\n",
              "#sk-container-id-2 div.sk-parallel {\n",
              "  display: flex;\n",
              "  align-items: stretch;\n",
              "  justify-content: center;\n",
              "  background-color: var(--sklearn-color-background);\n",
              "  position: relative;\n",
              "}\n",
              "\n",
              "#sk-container-id-2 div.sk-parallel-item {\n",
              "  display: flex;\n",
              "  flex-direction: column;\n",
              "}\n",
              "\n",
              "#sk-container-id-2 div.sk-parallel-item:first-child::after {\n",
              "  align-self: flex-end;\n",
              "  width: 50%;\n",
              "}\n",
              "\n",
              "#sk-container-id-2 div.sk-parallel-item:last-child::after {\n",
              "  align-self: flex-start;\n",
              "  width: 50%;\n",
              "}\n",
              "\n",
              "#sk-container-id-2 div.sk-parallel-item:only-child::after {\n",
              "  width: 0;\n",
              "}\n",
              "\n",
              "/* Serial-specific style estimator block */\n",
              "\n",
              "#sk-container-id-2 div.sk-serial {\n",
              "  display: flex;\n",
              "  flex-direction: column;\n",
              "  align-items: center;\n",
              "  background-color: var(--sklearn-color-background);\n",
              "  padding-right: 1em;\n",
              "  padding-left: 1em;\n",
              "}\n",
              "\n",
              "\n",
              "/* Toggleable style: style used for estimator/Pipeline/ColumnTransformer box that is\n",
              "clickable and can be expanded/collapsed.\n",
              "- Pipeline and ColumnTransformer use this feature and define the default style\n",
              "- Estimators will overwrite some part of the style using the `sk-estimator` class\n",
              "*/\n",
              "\n",
              "/* Pipeline and ColumnTransformer style (default) */\n",
              "\n",
              "#sk-container-id-2 div.sk-toggleable {\n",
              "  /* Default theme specific background. It is overwritten whether we have a\n",
              "  specific estimator or a Pipeline/ColumnTransformer */\n",
              "  background-color: var(--sklearn-color-background);\n",
              "}\n",
              "\n",
              "/* Toggleable label */\n",
              "#sk-container-id-2 label.sk-toggleable__label {\n",
              "  cursor: pointer;\n",
              "  display: flex;\n",
              "  width: 100%;\n",
              "  margin-bottom: 0;\n",
              "  padding: 0.5em;\n",
              "  box-sizing: border-box;\n",
              "  text-align: center;\n",
              "  align-items: start;\n",
              "  justify-content: space-between;\n",
              "  gap: 0.5em;\n",
              "}\n",
              "\n",
              "#sk-container-id-2 label.sk-toggleable__label .caption {\n",
              "  font-size: 0.6rem;\n",
              "  font-weight: lighter;\n",
              "  color: var(--sklearn-color-text-muted);\n",
              "}\n",
              "\n",
              "#sk-container-id-2 label.sk-toggleable__label-arrow:before {\n",
              "  /* Arrow on the left of the label */\n",
              "  content: \"▸\";\n",
              "  float: left;\n",
              "  margin-right: 0.25em;\n",
              "  color: var(--sklearn-color-icon);\n",
              "}\n",
              "\n",
              "#sk-container-id-2 label.sk-toggleable__label-arrow:hover:before {\n",
              "  color: var(--sklearn-color-text);\n",
              "}\n",
              "\n",
              "/* Toggleable content - dropdown */\n",
              "\n",
              "#sk-container-id-2 div.sk-toggleable__content {\n",
              "  max-height: 0;\n",
              "  max-width: 0;\n",
              "  overflow: hidden;\n",
              "  text-align: left;\n",
              "  /* unfitted */\n",
              "  background-color: var(--sklearn-color-unfitted-level-0);\n",
              "}\n",
              "\n",
              "#sk-container-id-2 div.sk-toggleable__content.fitted {\n",
              "  /* fitted */\n",
              "  background-color: var(--sklearn-color-fitted-level-0);\n",
              "}\n",
              "\n",
              "#sk-container-id-2 div.sk-toggleable__content pre {\n",
              "  margin: 0.2em;\n",
              "  border-radius: 0.25em;\n",
              "  color: var(--sklearn-color-text);\n",
              "  /* unfitted */\n",
              "  background-color: var(--sklearn-color-unfitted-level-0);\n",
              "}\n",
              "\n",
              "#sk-container-id-2 div.sk-toggleable__content.fitted pre {\n",
              "  /* unfitted */\n",
              "  background-color: var(--sklearn-color-fitted-level-0);\n",
              "}\n",
              "\n",
              "#sk-container-id-2 input.sk-toggleable__control:checked~div.sk-toggleable__content {\n",
              "  /* Expand drop-down */\n",
              "  max-height: 200px;\n",
              "  max-width: 100%;\n",
              "  overflow: auto;\n",
              "}\n",
              "\n",
              "#sk-container-id-2 input.sk-toggleable__control:checked~label.sk-toggleable__label-arrow:before {\n",
              "  content: \"▾\";\n",
              "}\n",
              "\n",
              "/* Pipeline/ColumnTransformer-specific style */\n",
              "\n",
              "#sk-container-id-2 div.sk-label input.sk-toggleable__control:checked~label.sk-toggleable__label {\n",
              "  color: var(--sklearn-color-text);\n",
              "  background-color: var(--sklearn-color-unfitted-level-2);\n",
              "}\n",
              "\n",
              "#sk-container-id-2 div.sk-label.fitted input.sk-toggleable__control:checked~label.sk-toggleable__label {\n",
              "  background-color: var(--sklearn-color-fitted-level-2);\n",
              "}\n",
              "\n",
              "/* Estimator-specific style */\n",
              "\n",
              "/* Colorize estimator box */\n",
              "#sk-container-id-2 div.sk-estimator input.sk-toggleable__control:checked~label.sk-toggleable__label {\n",
              "  /* unfitted */\n",
              "  background-color: var(--sklearn-color-unfitted-level-2);\n",
              "}\n",
              "\n",
              "#sk-container-id-2 div.sk-estimator.fitted input.sk-toggleable__control:checked~label.sk-toggleable__label {\n",
              "  /* fitted */\n",
              "  background-color: var(--sklearn-color-fitted-level-2);\n",
              "}\n",
              "\n",
              "#sk-container-id-2 div.sk-label label.sk-toggleable__label,\n",
              "#sk-container-id-2 div.sk-label label {\n",
              "  /* The background is the default theme color */\n",
              "  color: var(--sklearn-color-text-on-default-background);\n",
              "}\n",
              "\n",
              "/* On hover, darken the color of the background */\n",
              "#sk-container-id-2 div.sk-label:hover label.sk-toggleable__label {\n",
              "  color: var(--sklearn-color-text);\n",
              "  background-color: var(--sklearn-color-unfitted-level-2);\n",
              "}\n",
              "\n",
              "/* Label box, darken color on hover, fitted */\n",
              "#sk-container-id-2 div.sk-label.fitted:hover label.sk-toggleable__label.fitted {\n",
              "  color: var(--sklearn-color-text);\n",
              "  background-color: var(--sklearn-color-fitted-level-2);\n",
              "}\n",
              "\n",
              "/* Estimator label */\n",
              "\n",
              "#sk-container-id-2 div.sk-label label {\n",
              "  font-family: monospace;\n",
              "  font-weight: bold;\n",
              "  display: inline-block;\n",
              "  line-height: 1.2em;\n",
              "}\n",
              "\n",
              "#sk-container-id-2 div.sk-label-container {\n",
              "  text-align: center;\n",
              "}\n",
              "\n",
              "/* Estimator-specific */\n",
              "#sk-container-id-2 div.sk-estimator {\n",
              "  font-family: monospace;\n",
              "  border: 1px dotted var(--sklearn-color-border-box);\n",
              "  border-radius: 0.25em;\n",
              "  box-sizing: border-box;\n",
              "  margin-bottom: 0.5em;\n",
              "  /* unfitted */\n",
              "  background-color: var(--sklearn-color-unfitted-level-0);\n",
              "}\n",
              "\n",
              "#sk-container-id-2 div.sk-estimator.fitted {\n",
              "  /* fitted */\n",
              "  background-color: var(--sklearn-color-fitted-level-0);\n",
              "}\n",
              "\n",
              "/* on hover */\n",
              "#sk-container-id-2 div.sk-estimator:hover {\n",
              "  /* unfitted */\n",
              "  background-color: var(--sklearn-color-unfitted-level-2);\n",
              "}\n",
              "\n",
              "#sk-container-id-2 div.sk-estimator.fitted:hover {\n",
              "  /* fitted */\n",
              "  background-color: var(--sklearn-color-fitted-level-2);\n",
              "}\n",
              "\n",
              "/* Specification for estimator info (e.g. \"i\" and \"?\") */\n",
              "\n",
              "/* Common style for \"i\" and \"?\" */\n",
              "\n",
              ".sk-estimator-doc-link,\n",
              "a:link.sk-estimator-doc-link,\n",
              "a:visited.sk-estimator-doc-link {\n",
              "  float: right;\n",
              "  font-size: smaller;\n",
              "  line-height: 1em;\n",
              "  font-family: monospace;\n",
              "  background-color: var(--sklearn-color-background);\n",
              "  border-radius: 1em;\n",
              "  height: 1em;\n",
              "  width: 1em;\n",
              "  text-decoration: none !important;\n",
              "  margin-left: 0.5em;\n",
              "  text-align: center;\n",
              "  /* unfitted */\n",
              "  border: var(--sklearn-color-unfitted-level-1) 1pt solid;\n",
              "  color: var(--sklearn-color-unfitted-level-1);\n",
              "}\n",
              "\n",
              ".sk-estimator-doc-link.fitted,\n",
              "a:link.sk-estimator-doc-link.fitted,\n",
              "a:visited.sk-estimator-doc-link.fitted {\n",
              "  /* fitted */\n",
              "  border: var(--sklearn-color-fitted-level-1) 1pt solid;\n",
              "  color: var(--sklearn-color-fitted-level-1);\n",
              "}\n",
              "\n",
              "/* On hover */\n",
              "div.sk-estimator:hover .sk-estimator-doc-link:hover,\n",
              ".sk-estimator-doc-link:hover,\n",
              "div.sk-label-container:hover .sk-estimator-doc-link:hover,\n",
              ".sk-estimator-doc-link:hover {\n",
              "  /* unfitted */\n",
              "  background-color: var(--sklearn-color-unfitted-level-3);\n",
              "  color: var(--sklearn-color-background);\n",
              "  text-decoration: none;\n",
              "}\n",
              "\n",
              "div.sk-estimator.fitted:hover .sk-estimator-doc-link.fitted:hover,\n",
              ".sk-estimator-doc-link.fitted:hover,\n",
              "div.sk-label-container:hover .sk-estimator-doc-link.fitted:hover,\n",
              ".sk-estimator-doc-link.fitted:hover {\n",
              "  /* fitted */\n",
              "  background-color: var(--sklearn-color-fitted-level-3);\n",
              "  color: var(--sklearn-color-background);\n",
              "  text-decoration: none;\n",
              "}\n",
              "\n",
              "/* Span, style for the box shown on hovering the info icon */\n",
              ".sk-estimator-doc-link span {\n",
              "  display: none;\n",
              "  z-index: 9999;\n",
              "  position: relative;\n",
              "  font-weight: normal;\n",
              "  right: .2ex;\n",
              "  padding: .5ex;\n",
              "  margin: .5ex;\n",
              "  width: min-content;\n",
              "  min-width: 20ex;\n",
              "  max-width: 50ex;\n",
              "  color: var(--sklearn-color-text);\n",
              "  box-shadow: 2pt 2pt 4pt #999;\n",
              "  /* unfitted */\n",
              "  background: var(--sklearn-color-unfitted-level-0);\n",
              "  border: .5pt solid var(--sklearn-color-unfitted-level-3);\n",
              "}\n",
              "\n",
              ".sk-estimator-doc-link.fitted span {\n",
              "  /* fitted */\n",
              "  background: var(--sklearn-color-fitted-level-0);\n",
              "  border: var(--sklearn-color-fitted-level-3);\n",
              "}\n",
              "\n",
              ".sk-estimator-doc-link:hover span {\n",
              "  display: block;\n",
              "}\n",
              "\n",
              "/* \"?\"-specific style due to the `<a>` HTML tag */\n",
              "\n",
              "#sk-container-id-2 a.estimator_doc_link {\n",
              "  float: right;\n",
              "  font-size: 1rem;\n",
              "  line-height: 1em;\n",
              "  font-family: monospace;\n",
              "  background-color: var(--sklearn-color-background);\n",
              "  border-radius: 1rem;\n",
              "  height: 1rem;\n",
              "  width: 1rem;\n",
              "  text-decoration: none;\n",
              "  /* unfitted */\n",
              "  color: var(--sklearn-color-unfitted-level-1);\n",
              "  border: var(--sklearn-color-unfitted-level-1) 1pt solid;\n",
              "}\n",
              "\n",
              "#sk-container-id-2 a.estimator_doc_link.fitted {\n",
              "  /* fitted */\n",
              "  border: var(--sklearn-color-fitted-level-1) 1pt solid;\n",
              "  color: var(--sklearn-color-fitted-level-1);\n",
              "}\n",
              "\n",
              "/* On hover */\n",
              "#sk-container-id-2 a.estimator_doc_link:hover {\n",
              "  /* unfitted */\n",
              "  background-color: var(--sklearn-color-unfitted-level-3);\n",
              "  color: var(--sklearn-color-background);\n",
              "  text-decoration: none;\n",
              "}\n",
              "\n",
              "#sk-container-id-2 a.estimator_doc_link.fitted:hover {\n",
              "  /* fitted */\n",
              "  background-color: var(--sklearn-color-fitted-level-3);\n",
              "}\n",
              "</style><div id=\"sk-container-id-2\" class=\"sk-top-container\"><div class=\"sk-text-repr-fallback\"><pre>CalibratedClassifierCV(cv=3,\n",
              "                       estimator=LinearSVC(C=0.5, class_weight=&#x27;balanced&#x27;,\n",
              "                                           max_iter=5000, random_state=42))</pre><b>In a Jupyter environment, please rerun this cell to show the HTML representation or trust the notebook. <br />On GitHub, the HTML representation is unable to render, please try loading this page with nbviewer.org.</b></div><div class=\"sk-container\" hidden><div class=\"sk-item sk-dashed-wrapped\"><div class=\"sk-label-container\"><div class=\"sk-label fitted sk-toggleable\"><input class=\"sk-toggleable__control sk-hidden--visually\" id=\"sk-estimator-id-4\" type=\"checkbox\" ><label for=\"sk-estimator-id-4\" class=\"sk-toggleable__label fitted sk-toggleable__label-arrow\"><div><div>CalibratedClassifierCV</div></div><div><a class=\"sk-estimator-doc-link fitted\" rel=\"noreferrer\" target=\"_blank\" href=\"https://scikit-learn.org/1.6/modules/generated/sklearn.calibration.CalibratedClassifierCV.html\">?<span>Documentation for CalibratedClassifierCV</span></a><span class=\"sk-estimator-doc-link fitted\">i<span>Fitted</span></span></div></label><div class=\"sk-toggleable__content fitted\"><pre>CalibratedClassifierCV(cv=3,\n",
              "                       estimator=LinearSVC(C=0.5, class_weight=&#x27;balanced&#x27;,\n",
              "                                           max_iter=5000, random_state=42))</pre></div> </div></div><div class=\"sk-parallel\"><div class=\"sk-parallel-item\"><div class=\"sk-item\"><div class=\"sk-label-container\"><div class=\"sk-label fitted sk-toggleable\"><input class=\"sk-toggleable__control sk-hidden--visually\" id=\"sk-estimator-id-5\" type=\"checkbox\" ><label for=\"sk-estimator-id-5\" class=\"sk-toggleable__label fitted sk-toggleable__label-arrow\"><div><div>estimator: LinearSVC</div></div></label><div class=\"sk-toggleable__content fitted\"><pre>LinearSVC(C=0.5, class_weight=&#x27;balanced&#x27;, max_iter=5000, random_state=42)</pre></div> </div></div><div class=\"sk-serial\"><div class=\"sk-item\"><div class=\"sk-estimator fitted sk-toggleable\"><input class=\"sk-toggleable__control sk-hidden--visually\" id=\"sk-estimator-id-6\" type=\"checkbox\" ><label for=\"sk-estimator-id-6\" class=\"sk-toggleable__label fitted sk-toggleable__label-arrow\"><div><div>LinearSVC</div></div><div><a class=\"sk-estimator-doc-link fitted\" rel=\"noreferrer\" target=\"_blank\" href=\"https://scikit-learn.org/1.6/modules/generated/sklearn.svm.LinearSVC.html\">?<span>Documentation for LinearSVC</span></a></div></label><div class=\"sk-toggleable__content fitted\"><pre>LinearSVC(C=0.5, class_weight=&#x27;balanced&#x27;, max_iter=5000, random_state=42)</pre></div> </div></div></div></div></div></div></div></div></div>"
            ]
          },
          "metadata": {},
          "execution_count": 57
        }
      ]
    },
    {
      "cell_type": "code",
      "source": [
        "# Build a final pipeline: tfidf and calibrated estimator (wrap with a simple predict wrapper)\n",
        "class TfidfCalibratedPipeline:\n",
        "    def __init__(self, tfidf, calibrator):\n",
        "        self.tfidf = tfidf\n",
        "        self.calibrator = calibrator\n",
        "    def predict(self, texts):\n",
        "        X = self.tfidf.transform(texts)\n",
        "        return self.calibrator.predict(X)\n",
        "    def predict_proba(self, texts):\n",
        "        X = self.tfidf.transform(texts)\n",
        "        return self.calibrator.predict_proba(X)\n",
        "\n",
        "final_pipe = TfidfCalibratedPipeline(tfidf=tfidf, calibrator=calibrator)\n",
        "y_val_pred_cal = final_pipe.predict(X_val)\n",
        "print(\"Validation classification report (calibrated SVM):\")\n",
        "print(classification_report(y_val, y_val_pred_cal, digits=4))"
      ],
      "metadata": {
        "colab": {
          "base_uri": "https://localhost:8080/"
        },
        "id": "AKKKL9cs4EEr",
        "outputId": "a7f78b48-0c39-463e-9f83-a96ca6e9da93"
      },
      "execution_count": 58,
      "outputs": [
        {
          "output_type": "stream",
          "name": "stdout",
          "text": [
            "Validation classification report (calibrated SVM):\n",
            "                                    precision    recall  f1-score   support\n",
            "\n",
            "                      I can't tell     0.0000    0.0000    0.0000        15\n",
            "                  Negative emotion     0.5000    0.1404    0.2192        57\n",
            "No emotion toward brand or product     0.7006    0.8553    0.7703       539\n",
            "                  Positive emotion     0.6128    0.4832    0.5403       298\n",
            "\n",
            "                          accuracy                         0.6744       909\n",
            "                         macro avg     0.4533    0.3697    0.3824       909\n",
            "                      weighted avg     0.6477    0.6744    0.6476       909\n",
            "\n"
          ]
        },
        {
          "output_type": "stream",
          "name": "stderr",
          "text": [
            "/usr/local/lib/python3.12/dist-packages/sklearn/metrics/_classification.py:1565: UndefinedMetricWarning: Precision is ill-defined and being set to 0.0 in labels with no predicted samples. Use `zero_division` parameter to control this behavior.\n",
            "  _warn_prf(average, modifier, f\"{metric.capitalize()} is\", len(result))\n",
            "/usr/local/lib/python3.12/dist-packages/sklearn/metrics/_classification.py:1565: UndefinedMetricWarning: Precision is ill-defined and being set to 0.0 in labels with no predicted samples. Use `zero_division` parameter to control this behavior.\n",
            "  _warn_prf(average, modifier, f\"{metric.capitalize()} is\", len(result))\n",
            "/usr/local/lib/python3.12/dist-packages/sklearn/metrics/_classification.py:1565: UndefinedMetricWarning: Precision is ill-defined and being set to 0.0 in labels with no predicted samples. Use `zero_division` parameter to control this behavior.\n",
            "  _warn_prf(average, modifier, f\"{metric.capitalize()} is\", len(result))\n"
          ]
        }
      ]
    },
    {
      "cell_type": "markdown",
      "source": [
        "## Compare models (macro-F1, accuracy)"
      ],
      "metadata": {
        "id": "LmvD3JbO4HsF"
      }
    },
    {
      "cell_type": "markdown",
      "source": [
        "Summarize validation performance across the three main approaches for stakeholder-friendly comparison."
      ],
      "metadata": {
        "id": "lDFYPoPU4NCN"
      }
    },
    {
      "cell_type": "code",
      "source": [
        "# Compare F1 and accuracy\n",
        "def summarize(name, y_true, y_pred):\n",
        "    return {\n",
        "        \"name\": name,\n",
        "        \"accuracy\": accuracy_score(y_true, y_pred),\n",
        "        \"f1_macro\": f1_score(y_true, y_pred, average=\"macro\")\n",
        "    }\n",
        "\n",
        "summary = [\n",
        "    summarize(\"baseline_logreg\", y_val, y_val_pred_baseline),\n",
        "    summarize(\"best_svm\", y_val, y_val_pred_svm),\n",
        "    summarize(\"calibrated_svm\", y_val, y_val_pred_cal),\n",
        "]\n",
        "pd.DataFrame(summary).set_index(\"name\")"
      ],
      "metadata": {
        "colab": {
          "base_uri": "https://localhost:8080/",
          "height": 175
        },
        "id": "TJ-5PYCG4RCc",
        "outputId": "de934ab7-adc3-42cc-b253-c029285499c0"
      },
      "execution_count": 59,
      "outputs": [
        {
          "output_type": "execute_result",
          "data": {
            "text/plain": [
              "                 accuracy  f1_macro\n",
              "name                               \n",
              "baseline_logreg  0.400440  0.303092\n",
              "best_svm         0.649065  0.423317\n",
              "calibrated_svm   0.674367  0.382444"
            ],
            "text/html": [
              "\n",
              "  <div id=\"df-407c9121-ea68-482f-8fff-4ed51c06e81b\" class=\"colab-df-container\">\n",
              "    <div>\n",
              "<style scoped>\n",
              "    .dataframe tbody tr th:only-of-type {\n",
              "        vertical-align: middle;\n",
              "    }\n",
              "\n",
              "    .dataframe tbody tr th {\n",
              "        vertical-align: top;\n",
              "    }\n",
              "\n",
              "    .dataframe thead th {\n",
              "        text-align: right;\n",
              "    }\n",
              "</style>\n",
              "<table border=\"1\" class=\"dataframe\">\n",
              "  <thead>\n",
              "    <tr style=\"text-align: right;\">\n",
              "      <th></th>\n",
              "      <th>accuracy</th>\n",
              "      <th>f1_macro</th>\n",
              "    </tr>\n",
              "    <tr>\n",
              "      <th>name</th>\n",
              "      <th></th>\n",
              "      <th></th>\n",
              "    </tr>\n",
              "  </thead>\n",
              "  <tbody>\n",
              "    <tr>\n",
              "      <th>baseline_logreg</th>\n",
              "      <td>0.400440</td>\n",
              "      <td>0.303092</td>\n",
              "    </tr>\n",
              "    <tr>\n",
              "      <th>best_svm</th>\n",
              "      <td>0.649065</td>\n",
              "      <td>0.423317</td>\n",
              "    </tr>\n",
              "    <tr>\n",
              "      <th>calibrated_svm</th>\n",
              "      <td>0.674367</td>\n",
              "      <td>0.382444</td>\n",
              "    </tr>\n",
              "  </tbody>\n",
              "</table>\n",
              "</div>\n",
              "    <div class=\"colab-df-buttons\">\n",
              "\n",
              "  <div class=\"colab-df-container\">\n",
              "    <button class=\"colab-df-convert\" onclick=\"convertToInteractive('df-407c9121-ea68-482f-8fff-4ed51c06e81b')\"\n",
              "            title=\"Convert this dataframe to an interactive table.\"\n",
              "            style=\"display:none;\">\n",
              "\n",
              "  <svg xmlns=\"http://www.w3.org/2000/svg\" height=\"24px\" viewBox=\"0 -960 960 960\">\n",
              "    <path d=\"M120-120v-720h720v720H120Zm60-500h600v-160H180v160Zm220 220h160v-160H400v160Zm0 220h160v-160H400v160ZM180-400h160v-160H180v160Zm440 0h160v-160H620v160ZM180-180h160v-160H180v160Zm440 0h160v-160H620v160Z\"/>\n",
              "  </svg>\n",
              "    </button>\n",
              "\n",
              "  <style>\n",
              "    .colab-df-container {\n",
              "      display:flex;\n",
              "      gap: 12px;\n",
              "    }\n",
              "\n",
              "    .colab-df-convert {\n",
              "      background-color: #E8F0FE;\n",
              "      border: none;\n",
              "      border-radius: 50%;\n",
              "      cursor: pointer;\n",
              "      display: none;\n",
              "      fill: #1967D2;\n",
              "      height: 32px;\n",
              "      padding: 0 0 0 0;\n",
              "      width: 32px;\n",
              "    }\n",
              "\n",
              "    .colab-df-convert:hover {\n",
              "      background-color: #E2EBFA;\n",
              "      box-shadow: 0px 1px 2px rgba(60, 64, 67, 0.3), 0px 1px 3px 1px rgba(60, 64, 67, 0.15);\n",
              "      fill: #174EA6;\n",
              "    }\n",
              "\n",
              "    .colab-df-buttons div {\n",
              "      margin-bottom: 4px;\n",
              "    }\n",
              "\n",
              "    [theme=dark] .colab-df-convert {\n",
              "      background-color: #3B4455;\n",
              "      fill: #D2E3FC;\n",
              "    }\n",
              "\n",
              "    [theme=dark] .colab-df-convert:hover {\n",
              "      background-color: #434B5C;\n",
              "      box-shadow: 0px 1px 3px 1px rgba(0, 0, 0, 0.15);\n",
              "      filter: drop-shadow(0px 1px 2px rgba(0, 0, 0, 0.3));\n",
              "      fill: #FFFFFF;\n",
              "    }\n",
              "  </style>\n",
              "\n",
              "    <script>\n",
              "      const buttonEl =\n",
              "        document.querySelector('#df-407c9121-ea68-482f-8fff-4ed51c06e81b button.colab-df-convert');\n",
              "      buttonEl.style.display =\n",
              "        google.colab.kernel.accessAllowed ? 'block' : 'none';\n",
              "\n",
              "      async function convertToInteractive(key) {\n",
              "        const element = document.querySelector('#df-407c9121-ea68-482f-8fff-4ed51c06e81b');\n",
              "        const dataTable =\n",
              "          await google.colab.kernel.invokeFunction('convertToInteractive',\n",
              "                                                    [key], {});\n",
              "        if (!dataTable) return;\n",
              "\n",
              "        const docLinkHtml = 'Like what you see? Visit the ' +\n",
              "          '<a target=\"_blank\" href=https://colab.research.google.com/notebooks/data_table.ipynb>data table notebook</a>'\n",
              "          + ' to learn more about interactive tables.';\n",
              "        element.innerHTML = '';\n",
              "        dataTable['output_type'] = 'display_data';\n",
              "        await google.colab.output.renderOutput(dataTable, element);\n",
              "        const docLink = document.createElement('div');\n",
              "        docLink.innerHTML = docLinkHtml;\n",
              "        element.appendChild(docLink);\n",
              "      }\n",
              "    </script>\n",
              "  </div>\n",
              "\n",
              "\n",
              "    <div id=\"df-3b6e5096-22aa-4e2d-92e4-9a965fca7a50\">\n",
              "      <button class=\"colab-df-quickchart\" onclick=\"quickchart('df-3b6e5096-22aa-4e2d-92e4-9a965fca7a50')\"\n",
              "                title=\"Suggest charts\"\n",
              "                style=\"display:none;\">\n",
              "\n",
              "<svg xmlns=\"http://www.w3.org/2000/svg\" height=\"24px\"viewBox=\"0 0 24 24\"\n",
              "     width=\"24px\">\n",
              "    <g>\n",
              "        <path d=\"M19 3H5c-1.1 0-2 .9-2 2v14c0 1.1.9 2 2 2h14c1.1 0 2-.9 2-2V5c0-1.1-.9-2-2-2zM9 17H7v-7h2v7zm4 0h-2V7h2v10zm4 0h-2v-4h2v4z\"/>\n",
              "    </g>\n",
              "</svg>\n",
              "      </button>\n",
              "\n",
              "<style>\n",
              "  .colab-df-quickchart {\n",
              "      --bg-color: #E8F0FE;\n",
              "      --fill-color: #1967D2;\n",
              "      --hover-bg-color: #E2EBFA;\n",
              "      --hover-fill-color: #174EA6;\n",
              "      --disabled-fill-color: #AAA;\n",
              "      --disabled-bg-color: #DDD;\n",
              "  }\n",
              "\n",
              "  [theme=dark] .colab-df-quickchart {\n",
              "      --bg-color: #3B4455;\n",
              "      --fill-color: #D2E3FC;\n",
              "      --hover-bg-color: #434B5C;\n",
              "      --hover-fill-color: #FFFFFF;\n",
              "      --disabled-bg-color: #3B4455;\n",
              "      --disabled-fill-color: #666;\n",
              "  }\n",
              "\n",
              "  .colab-df-quickchart {\n",
              "    background-color: var(--bg-color);\n",
              "    border: none;\n",
              "    border-radius: 50%;\n",
              "    cursor: pointer;\n",
              "    display: none;\n",
              "    fill: var(--fill-color);\n",
              "    height: 32px;\n",
              "    padding: 0;\n",
              "    width: 32px;\n",
              "  }\n",
              "\n",
              "  .colab-df-quickchart:hover {\n",
              "    background-color: var(--hover-bg-color);\n",
              "    box-shadow: 0 1px 2px rgba(60, 64, 67, 0.3), 0 1px 3px 1px rgba(60, 64, 67, 0.15);\n",
              "    fill: var(--button-hover-fill-color);\n",
              "  }\n",
              "\n",
              "  .colab-df-quickchart-complete:disabled,\n",
              "  .colab-df-quickchart-complete:disabled:hover {\n",
              "    background-color: var(--disabled-bg-color);\n",
              "    fill: var(--disabled-fill-color);\n",
              "    box-shadow: none;\n",
              "  }\n",
              "\n",
              "  .colab-df-spinner {\n",
              "    border: 2px solid var(--fill-color);\n",
              "    border-color: transparent;\n",
              "    border-bottom-color: var(--fill-color);\n",
              "    animation:\n",
              "      spin 1s steps(1) infinite;\n",
              "  }\n",
              "\n",
              "  @keyframes spin {\n",
              "    0% {\n",
              "      border-color: transparent;\n",
              "      border-bottom-color: var(--fill-color);\n",
              "      border-left-color: var(--fill-color);\n",
              "    }\n",
              "    20% {\n",
              "      border-color: transparent;\n",
              "      border-left-color: var(--fill-color);\n",
              "      border-top-color: var(--fill-color);\n",
              "    }\n",
              "    30% {\n",
              "      border-color: transparent;\n",
              "      border-left-color: var(--fill-color);\n",
              "      border-top-color: var(--fill-color);\n",
              "      border-right-color: var(--fill-color);\n",
              "    }\n",
              "    40% {\n",
              "      border-color: transparent;\n",
              "      border-right-color: var(--fill-color);\n",
              "      border-top-color: var(--fill-color);\n",
              "    }\n",
              "    60% {\n",
              "      border-color: transparent;\n",
              "      border-right-color: var(--fill-color);\n",
              "    }\n",
              "    80% {\n",
              "      border-color: transparent;\n",
              "      border-right-color: var(--fill-color);\n",
              "      border-bottom-color: var(--fill-color);\n",
              "    }\n",
              "    90% {\n",
              "      border-color: transparent;\n",
              "      border-bottom-color: var(--fill-color);\n",
              "    }\n",
              "  }\n",
              "</style>\n",
              "\n",
              "      <script>\n",
              "        async function quickchart(key) {\n",
              "          const quickchartButtonEl =\n",
              "            document.querySelector('#' + key + ' button');\n",
              "          quickchartButtonEl.disabled = true;  // To prevent multiple clicks.\n",
              "          quickchartButtonEl.classList.add('colab-df-spinner');\n",
              "          try {\n",
              "            const charts = await google.colab.kernel.invokeFunction(\n",
              "                'suggestCharts', [key], {});\n",
              "          } catch (error) {\n",
              "            console.error('Error during call to suggestCharts:', error);\n",
              "          }\n",
              "          quickchartButtonEl.classList.remove('colab-df-spinner');\n",
              "          quickchartButtonEl.classList.add('colab-df-quickchart-complete');\n",
              "        }\n",
              "        (() => {\n",
              "          let quickchartButtonEl =\n",
              "            document.querySelector('#df-3b6e5096-22aa-4e2d-92e4-9a965fca7a50 button');\n",
              "          quickchartButtonEl.style.display =\n",
              "            google.colab.kernel.accessAllowed ? 'block' : 'none';\n",
              "        })();\n",
              "      </script>\n",
              "    </div>\n",
              "\n",
              "    </div>\n",
              "  </div>\n"
            ],
            "application/vnd.google.colaboratory.intrinsic+json": {
              "type": "dataframe",
              "summary": "{\n  \"name\": \"pd\",\n  \"rows\": 3,\n  \"fields\": [\n    {\n      \"column\": \"name\",\n      \"properties\": {\n        \"dtype\": \"string\",\n        \"num_unique_values\": 3,\n        \"samples\": [\n          \"baseline_logreg\",\n          \"best_svm\",\n          \"calibrated_svm\"\n        ],\n        \"semantic_type\": \"\",\n        \"description\": \"\"\n      }\n    },\n    {\n      \"column\": \"accuracy\",\n      \"properties\": {\n        \"dtype\": \"number\",\n        \"std\": 0.15137742939225768,\n        \"min\": 0.4004400440044004,\n        \"max\": 0.6743674367436744,\n        \"num_unique_values\": 3,\n        \"samples\": [\n          0.4004400440044004,\n          0.6490649064906491,\n          0.6743674367436744\n        ],\n        \"semantic_type\": \"\",\n        \"description\": \"\"\n      }\n    },\n    {\n      \"column\": \"f1_macro\",\n      \"properties\": {\n        \"dtype\": \"number\",\n        \"std\": 0.0611303096732203,\n        \"min\": 0.30309158887634285,\n        \"max\": 0.4233168615483418,\n        \"num_unique_values\": 3,\n        \"samples\": [\n          0.30309158887634285,\n          0.4233168615483418,\n          0.38244369351162394\n        ],\n        \"semantic_type\": \"\",\n        \"description\": \"\"\n      }\n    }\n  ]\n}"
            }
          },
          "metadata": {},
          "execution_count": 59
        }
      ]
    },
    {
      "cell_type": "markdown",
      "source": [
        "## Confusion matrix for final model"
      ],
      "metadata": {
        "id": "_Lpujqyw4UBl"
      }
    },
    {
      "cell_type": "markdown",
      "source": [
        "Show confusion matrix heatmap for the final calibrated model to visualize error types."
      ],
      "metadata": {
        "id": "4upsLWux4WOk"
      }
    },
    {
      "cell_type": "code",
      "source": [
        "# Confusion matrix (final)\n",
        "labels = list(pd.Series(y_train).unique())\n",
        "cm = confusion_matrix(y_val, y_val_pred_cal, labels=labels)\n",
        "plt.figure(figsize=(8,6))\n",
        "sns.heatmap(cm, annot=True, fmt=\"d\", xticklabels=labels, yticklabels=labels, cmap=\"Blues\")\n",
        "plt.xlabel(\"Predicted\")\n",
        "plt.ylabel(\"True\")\n",
        "plt.title(\"Confusion Matrix - Calibrated SVM (validation)\")\n",
        "plt.tight_layout()\n",
        "plt.show()"
      ],
      "metadata": {
        "colab": {
          "base_uri": "https://localhost:8080/",
          "height": 601
        },
        "id": "YmaROE6k4Yws",
        "outputId": "bface797-0c50-4ca4-c8a6-9fa2865dc8e9"
      },
      "execution_count": 60,
      "outputs": [
        {
          "output_type": "display_data",
          "data": {
            "text/plain": [
              "<Figure size 800x600 with 2 Axes>"
            ],
            "image/png": "[encoded data removed]"
          },
          "metadata": {}
        }
      ]
    },
    {
      "cell_type": "markdown",
      "source": [
        "## Top tokens (model interpretability)"
      ],
      "metadata": {
        "id": "91CTovnx4fKc"
      }
    },
    {
      "cell_type": "markdown",
      "source": [
        "For stakeholder transparency, extract top positive/negative tokens per class using logistic regression coefficients on the baseline TF-IDF (multinomial)."
      ],
      "metadata": {
        "id": "Bkgn_Lov4hUE"
      }
    },
    {
      "cell_type": "code",
      "source": [
        "# Interpretability: top tokens per class from baseline (multinomial LR)\n",
        "# baseline_pipe has tfidf and logistic regression fitted earlier\n",
        "tfidf_baseline = baseline_pipe.named_steps[\"tfidf\"]\n",
        "clf_baseline = baseline_pipe.named_steps[\"clf\"]\n",
        "\n",
        "feature_names = tfidf_baseline.get_feature_names_out()\n",
        "if hasattr(clf_baseline, \"coef_\"):\n",
        "    coefs = clf_baseline.coef_  # shape: (n_classes, n_features)\n",
        "    classes = clf_baseline.classes_\n",
        "    print(\"Top tokens per class (baseline logistic regression):\")\n",
        "    for i, cls in enumerate(classes):\n",
        "        topn = np.argsort(coefs[i])[-15:][::-1]\n",
        "        toks = [feature_names[j] for j in topn]\n",
        "        print(f\"\\n{cls}:\")\n",
        "        print(\", \".join(toks))\n",
        "else:\n",
        "    print(\"Baseline classifier has no coef_ attribute to inspect.\")"
      ],
      "metadata": {
        "colab": {
          "base_uri": "https://localhost:8080/"
        },
        "id": "yCstAgDB4mF3",
        "outputId": "9e26999a-5d7b-406c-c33c-a69040694eb7"
      },
      "execution_count": 61,
      "outputs": [
        {
          "output_type": "stream",
          "name": "stdout",
          "text": [
            "Top tokens per class (baseline logistic regression):\n",
            "\n",
            "I can't tell:\n",
            "en, another, gave, 2day, circles, email, down, stock, form, fragmentation, fine, holy, killer, temptation, take\n",
            "\n",
            "Negative emotion:\n",
            "iphone, hate, suck, quot, battery, kinda, headaches, over, design, apple, because, glad, sucks, fascist, swisher\n",
            "\n",
            "No emotion toward brand or product:\n",
            "link, amp, and, from, major, with, new, what, free, you, know, hashtag_google, at, talk, pop\n",
            "\n",
            "Positive emotion:\n",
            "cool, great, awesome, love, nice, get, new, time, smart, free, just, fun, hashtag_apple, major, must\n"
          ]
        }
      ]
    },
    {
      "cell_type": "markdown",
      "source": [
        "## Misclassified examples for stakeholder review"
      ],
      "metadata": {
        "id": "Q0QcYi5T4pGk"
      }
    },
    {
      "cell_type": "markdown",
      "source": [
        "Show a sample of misclassified tweets and the predicted vs true labels to help stakeholders understand common failure modes."
      ],
      "metadata": {
        "id": "PNHmjyaD4qRB"
      }
    },
    {
      "cell_type": "code",
      "source": [
        "# Misclassified examples (final model)\n",
        "preds = y_val_pred_cal\n",
        "mis_idx = [i for i,(p,t) in enumerate(zip(preds, y_val)) if p != t]\n",
        "print(\"Total misclassified on validation:\", len(mis_idx))\n",
        "# show up to 12 misclassified examples\n",
        "for i in mis_idx[:12]:\n",
        "    print(\"-\" * 80)\n",
        "    print(\"Text:\", X_val[i])\n",
        "    print(\"True:\", y_val[i], \"| Pred:\", preds[i])"
      ],
      "metadata": {
        "colab": {
          "base_uri": "https://localhost:8080/"
        },
        "id": "kvVEMoAc4s9Z",
        "outputId": "72b22702-84ed-4b9b-bccc-68973412bc96"
      },
      "execution_count": 62,
      "outputs": [
        {
          "output_type": "stream",
          "name": "stdout",
          "text": [
            "Total misclassified on validation: 296\n",
            "--------------------------------------------------------------------------------\n",
            "Text: rt @user we're wondering how many @user will come back from hashtag_sxsw with ipad 2's maybe everyone\n",
            "True: Positive emotion | Pred: No emotion toward brand or product\n",
            "--------------------------------------------------------------------------------\n",
            "Text: apple popup store is still under constuction that's not keeping a 50 line of people standing in line for it hashtag_sxsw\n",
            "True: No emotion toward brand or product | Pred: Positive emotion\n",
            "--------------------------------------------------------------------------------\n",
            "Text: it is never more apparent than at hashtag_sxsw how nice it would be if apple made stuff w removable batteries hashtag_alwayshavingtoplugin hashtag_gsdm\n",
            "True: Negative emotion | Pred: Positive emotion\n",
            "--------------------------------------------------------------------------------\n",
            "Text: rt @user at hashtag_sxsw we're giving away an ipad 2 to the creator of the most popular disc during interactive create a disc amp share on twitter\n",
            "True: No emotion toward brand or product | Pred: Positive emotion\n",
            "--------------------------------------------------------------------------------\n",
            "Text: awesome lost colleague left iphone in car hashtag_fail hashtag_sxsw\n",
            "True: No emotion toward brand or product | Pred: Negative emotion\n",
            "--------------------------------------------------------------------------------\n",
            "Text: rt @user google hotpot rate restaurants and get personalized recos on where to eat um think foursquare yelp etc have this covered already hashtag_sxsw\n",
            "True: Negative emotion | Pred: Positive emotion\n",
            "--------------------------------------------------------------------------------\n",
            "Text: line a mile long outside lucky to get in just to sit on the floor your mom has an ipad i miss the old days at hashtag_sxsw before 40 growth\n",
            "True: I can't tell | Pred: No emotion toward brand or product\n",
            "--------------------------------------------------------------------------------\n",
            "Text: hashtag_dgtltribe hashtag_sxsw hashtag_openbeta6 ipad give away fantastic now how are we going to squeeze that in\n",
            "True: Positive emotion | Pred: No emotion toward brand or product\n",
            "--------------------------------------------------------------------------------\n",
            "Text: fantastico rt @user marissa mayer google will connect the digital amp physical worlds through mobile link hashtag_sxsw\n",
            "True: Positive emotion | Pred: No emotion toward brand or product\n",
            "--------------------------------------------------------------------------------\n",
            "Text: apple set to open popup shop in core of sxsw action they're going to sell ipad2 at hashtag_sxsw link\n",
            "True: Positive emotion | Pred: No emotion toward brand or product\n",
            "--------------------------------------------------------------------------------\n",
            "Text: @user link you get the hashtag_sxsw app yet android version has the schedule\n",
            "True: Positive emotion | Pred: No emotion toward brand or product\n",
            "--------------------------------------------------------------------------------\n",
            "Text: rt @user google maps has 150 million users 40 percent of google maps users are mobile hashtag_sxsw\n",
            "True: No emotion toward brand or product | Pred: Positive emotion\n"
          ]
        }
      ]
    },
    {
      "cell_type": "markdown",
      "source": [
        "## Calibration curve and probability distribution"
      ],
      "metadata": {
        "id": "apLuFu8c4wdi"
      }
    },
    {
      "cell_type": "markdown",
      "source": [
        "Plot calibration curve and predicted probability distributions to show model confidence."
      ],
      "metadata": {
        "id": "yyi5dX7w4zK2"
      }
    },
    {
      "cell_type": "code",
      "source": [
        "# Calibration and probability distribution (take one class vs rest as example)\n",
        "# We'll compute calibrated probs and plot reliability for the class with highest support\n",
        "probs = final_pipe.predict_proba(X_val)  # shape (n_samples, n_classes)\n",
        "# Find largest class to plot\n",
        "class_counts = pd.Series(y_train).value_counts()\n",
        "top_class = class_counts.index[0]\n",
        "class_idx = list(calibrator.classes_).index(top_class)"
      ],
      "metadata": {
        "id": "rl9E7ncj42b0"
      },
      "execution_count": 63,
      "outputs": []
    },
    {
      "cell_type": "code",
      "source": [
        "# Calibration curve\n",
        "y_true_bin = (np.array(y_val) == top_class).astype(int)\n",
        "prob_pos = probs[:, class_idx]\n",
        "frac_pos, mean_pred = calibration_curve(y_true_bin, prob_pos, n_bins=10, strategy='quantile')\n",
        "\n",
        "plt.figure(figsize=(6,6))\n",
        "plt.plot(mean_pred, frac_pos, \"s-\", label=f\"{top_class}\")\n",
        "plt.plot([0,1],[0,1], \"k:\", label=\"Perfectly calibrated\")\n",
        "plt.xlabel(\"Mean predicted probability\")\n",
        "plt.ylabel(\"Fraction of positives\")\n",
        "plt.title(f\"Calibration curve for class '{top_class}'\")\n",
        "plt.legend()\n",
        "plt.grid(True)\n",
        "plt.show()"
      ],
      "metadata": {
        "colab": {
          "base_uri": "https://localhost:8080/",
          "height": 573
        },
        "id": "kHe6eSa7463I",
        "outputId": "c931ae8b-0be7-4bb8-c0df-138ecbd19a14"
      },
      "execution_count": 64,
      "outputs": [
        {
          "output_type": "display_data",
          "data": {
            "text/plain": [
              "<Figure size 600x600 with 1 Axes>"
            ],
            "image/png": "[encoded data removed]"
          },
          "metadata": {}
        }
      ]
    },
    {
      "cell_type": "code",
      "source": [
        "# Probability histogram\n",
        "plt.figure(figsize=(6,3))\n",
        "plt.hist(prob_pos, bins=20)\n",
        "plt.title(f\"Predicted probability distribution for class '{top_class}'\")\n",
        "plt.xlabel(\"Predicted probability\")\n",
        "plt.ylabel(\"Count\")\n",
        "plt.tight_layout()\n",
        "plt.show()"
      ],
      "metadata": {
        "colab": {
          "base_uri": "https://localhost:8080/",
          "height": 301
        },
        "id": "z688egAc49tA",
        "outputId": "8436bd85-616a-44b7-8c0f-320088088589"
      },
      "execution_count": 65,
      "outputs": [
        {
          "output_type": "display_data",
          "data": {
            "text/plain": [
              "<Figure size 600x300 with 1 Axes>"
            ],
            "image/png": "[encoded data removed]"
          },
          "metadata": {}
        }
      ]
    },
    {
      "cell_type": "markdown",
      "source": [
        "## Final test-set evaluation"
      ],
      "metadata": {
        "id": "dTXnCOlE5AT7"
      }
    },
    {
      "cell_type": "markdown",
      "source": [
        "Evaluate the chosen final pipeline on the hold-out test set and save a concise report for stakeholders."
      ],
      "metadata": {
        "id": "4q9pfsve5CaX"
      }
    },
    {
      "cell_type": "code",
      "source": [
        "# Evaluate on hold-out test set\n",
        "X_test_arr = X_test\n",
        "y_test_arr = y_test\n",
        "\n",
        "y_test_pred = final_pipe.predict(X_test_arr)\n",
        "test_report = classification_report(y_test_arr, y_test_pred, output_dict=True)\n",
        "test_summary = {\n",
        "    \"accuracy\": accuracy_score(y_test_arr, y_test_pred),\n",
        "    \"f1_macro\": f1_score(y_test_arr, y_test_pred, average=\"macro\")\n",
        "}\n",
        "print(\"Test summary:\", test_summary)\n",
        "print(\"\\nClassification report (test):\")\n",
        "print(classification_report(y_test_arr, y_test_pred, digits=4))\n",
        "\n",
        "# Save report\n",
        "with open(SAVEDIR / \"test_report.json\", \"w\") as f:\n",
        "    json.dump({\"summary\": test_summary, \"report\": test_report}, f, indent=2)"
      ],
      "metadata": {
        "colab": {
          "base_uri": "https://localhost:8080/"
        },
        "id": "7I6NeWyn5Gyf",
        "outputId": "d47f6c37-fae4-45fc-d233-3796d3b78a10"
      },
      "execution_count": 66,
      "outputs": [
        {
          "output_type": "stream",
          "name": "stdout",
          "text": [
            "Test summary: {'accuracy': 0.7054945054945055, 'f1_macro': 0.4463349564857024}\n",
            "\n",
            "Classification report (test):\n",
            "                                    precision    recall  f1-score   support\n",
            "\n",
            "                      I can't tell     0.0000    0.0000    0.0000        16\n",
            "                  Negative emotion     0.7391    0.2982    0.4250        57\n",
            "No emotion toward brand or product     0.7090    0.8905    0.7895       539\n",
            "                  Positive emotion     0.6905    0.4866    0.5709       298\n",
            "\n",
            "                          accuracy                         0.7055       910\n",
            "                         macro avg     0.5347    0.4188    0.4463       910\n",
            "                      weighted avg     0.6924    0.7055    0.6812       910\n",
            "\n"
          ]
        },
        {
          "output_type": "stream",
          "name": "stderr",
          "text": [
            "/usr/local/lib/python3.12/dist-packages/sklearn/metrics/_classification.py:1565: UndefinedMetricWarning: Precision is ill-defined and being set to 0.0 in labels with no predicted samples. Use `zero_division` parameter to control this behavior.\n",
            "  _warn_prf(average, modifier, f\"{metric.capitalize()} is\", len(result))\n",
            "/usr/local/lib/python3.12/dist-packages/sklearn/metrics/_classification.py:1565: UndefinedMetricWarning: Precision is ill-defined and being set to 0.0 in labels with no predicted samples. Use `zero_division` parameter to control this behavior.\n",
            "  _warn_prf(average, modifier, f\"{metric.capitalize()} is\", len(result))\n",
            "/usr/local/lib/python3.12/dist-packages/sklearn/metrics/_classification.py:1565: UndefinedMetricWarning: Precision is ill-defined and being set to 0.0 in labels with no predicted samples. Use `zero_division` parameter to control this behavior.\n",
            "  _warn_prf(average, modifier, f\"{metric.capitalize()} is\", len(result))\n",
            "/usr/local/lib/python3.12/dist-packages/sklearn/metrics/_classification.py:1565: UndefinedMetricWarning: Precision is ill-defined and being set to 0.0 in labels with no predicted samples. Use `zero_division` parameter to control this behavior.\n",
            "  _warn_prf(average, modifier, f\"{metric.capitalize()} is\", len(result))\n",
            "/usr/local/lib/python3.12/dist-packages/sklearn/metrics/_classification.py:1565: UndefinedMetricWarning: Precision is ill-defined and being set to 0.0 in labels with no predicted samples. Use `zero_division` parameter to control this behavior.\n",
            "  _warn_prf(average, modifier, f\"{metric.capitalize()} is\", len(result))\n",
            "/usr/local/lib/python3.12/dist-packages/sklearn/metrics/_classification.py:1565: UndefinedMetricWarning: Precision is ill-defined and being set to 0.0 in labels with no predicted samples. Use `zero_division` parameter to control this behavior.\n",
            "  _warn_prf(average, modifier, f\"{metric.capitalize()} is\", len(result))\n"
          ]
        }
      ]
    },
    {
      "cell_type": "markdown",
      "source": [
        "## Save artifacts"
      ],
      "metadata": {
        "id": "RmklXteD5Nbz"
      }
    },
    {
      "cell_type": "markdown",
      "source": [
        "Save TF-IDF, calibrated model, and a short run-summary for reproducibility and deployment."
      ],
      "metadata": {
        "id": "RoSv-U975RuG"
      }
    },
    {
      "cell_type": "code",
      "source": [
        "# Save artifacts\n",
        "joblib.dump(tfidf, SAVEDIR / \"tfidf_best_svm.joblib\")\n",
        "joblib.dump(calibrator, SAVEDIR / \"calibrated_svm_estimator.joblib\")\n",
        "# Note: calibrated estimator expects tfidf features; we saved both.\n",
        "\n",
        "run_summary = {\n",
        "    \"chosen_model\": \"calibrated_svm\",\n",
        "    \"cv_folds\": CV_FOLDS,\n",
        "    \"random_state\": RANDOM_STATE,\n",
        "    \"train_size\": len(X_train),\n",
        "    \"validation_size\": len(X_val),\n",
        "    \"test_size\": len(X_test),\n",
        "    \"class_distribution_train\": pd.Series(y_train).value_counts().to_dict(),\n",
        "    \"validation_metrics\": {\n",
        "        \"accuracy\": accuracy_score(y_val, y_val_pred_cal),\n",
        "        \"f1_macro\": f1_score(y_val, y_val_pred_cal, average=\"macro\")\n",
        "    },\n",
        "    \"test_metrics\": test_summary\n",
        "}\n",
        "\n",
        "with open(SAVEDIR / \"run_summary.json\", \"w\") as f:\n",
        "    json.dump(run_summary, f, indent=2)\n",
        "\n",
        "print(\"Artifacts saved to\", SAVEDIR.resolve())"
      ],
      "metadata": {
        "colab": {
          "base_uri": "https://localhost:8080/"
        },
        "id": "GEITV5zC5U6A",
        "outputId": "2212cd73-44ca-4a06-dd1c-09ecb8d5747c"
      },
      "execution_count": 67,
      "outputs": [
        {
          "output_type": "stream",
          "name": "stdout",
          "text": [
            "Artifacts saved to /content/artifacts\n"
          ]
        }
      ]
    },
    {
      "cell_type": "markdown",
      "source": [
        "## Short stakeholder summary"
      ],
      "metadata": {
        "id": "BFuJ5tRr5cD_"
      }
    },
    {
      "cell_type": "markdown",
      "source": [
        "Print an  executive summary for stakeholders describing what was built and next recommended actions."
      ],
      "metadata": {
        "id": "Dlb6RaqP5erJ"
      }
    },
    {
      "cell_type": "code",
      "source": [
        "# Stakeholder summary (short)\n",
        "print(\"EXECUTIVE SUMMARY\")\n",
        "print(\"-----------------\")\n",
        "print(f\"Dataset: {len(df)} tweets; Classes: {', '.join(allowed_labels)}\")\n",
        "print(f\"Final model: Calibrated LinearSVC on TF-IDF (word n-grams).\")\n",
        "print(f\"Validation F1-macro: {f1_score(y_val, y_val_pred_cal, average='macro'):.4f}\")\n",
        "print(f\"Test F1-macro: {test_summary['f1_macro']:.4f}\")\n",
        "print(\"Recommended next steps: monitor model confidence, route low-confidence cases to manual triage, collect more labeled negatives for balance.\")"
      ],
      "metadata": {
        "colab": {
          "base_uri": "https://localhost:8080/"
        },
        "id": "6A0gS5l05lba",
        "outputId": "7e9bdcbe-ea56-489c-a7d4-9747f4eb2032"
      },
      "execution_count": 68,
      "outputs": [
        {
          "output_type": "stream",
          "name": "stdout",
          "text": [
            "EXECUTIVE SUMMARY\n",
            "-----------------\n",
            "Dataset: 9092 tweets; Classes: No emotion toward brand or product, Positive emotion, Negative emotion, I can't tell\n",
            "Final model: Calibrated LinearSVC on TF-IDF (word n-grams).\n",
            "Validation F1-macro: 0.3824\n",
            "Test F1-macro: 0.4463\n",
            "Recommended next steps: monitor model confidence, route low-confidence cases to manual triage, collect more labeled negatives for balance.\n"
          ]
        }
      ]
    }
  ]
}